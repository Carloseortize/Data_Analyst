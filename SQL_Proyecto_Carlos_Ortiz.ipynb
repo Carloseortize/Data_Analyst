{
 "cells": [
  {
   "cell_type": "markdown",
   "id": "e0584aa1-7fee-4c0c-815d-aa4863a39aa6",
   "metadata": {},
   "source": [
    "# SQL_Libreria "
   ]
  },
  {
   "cell_type": "markdown",
   "id": "9507eb38-058b-41d6-b7b8-63fa5d1d9034",
   "metadata": {},
   "source": [
    "**Carlos Esteban Ortiz Espitia** Analista de datos "
   ]
  },
  {
   "cell_type": "markdown",
   "id": "ac68dea8-0701-40a8-85a4-c89c8a84e260",
   "metadata": {},
   "source": [
    "# Introducción\n",
    "\n",
    "El surgimiento del COVID-19 provocó cambios significativos en los hábitos cotidianos de millones de personas alrededor del mundo. Con las restricciones de movilidad y el cierre de espacios públicos, actividades como la lectura cobraron una nueva relevancia en la vida de los usuarios. Este contexto impulsó el crecimiento de servicios digitales dedicados a los libros, generando una oportunidad clave para que las startups innovaran en el mercado editorial.\n",
    "\n",
    "Con base en esta tendencia, se ha facilitado una base de datos proveniente de una plataforma digital de lectura que contiene información detallada sobre libros, autores, editoriales, calificaciones de usuarios y reseñas escritas. A partir del análisis de estos datos, se busca obtener hallazgos que permitan mejorar la propuesta de valor del producto y comprender mejor el comportamiento de los lectores dentro del servicio."
   ]
  },
  {
   "cell_type": "markdown",
   "id": "51384a87-bfeb-415e-b252-46a3cea4466a",
   "metadata": {},
   "source": [
    "# Objetivo General\n",
    "\n",
    "Analizar los datos relacionados con libros, autores, editoriales, calificaciones y reseñas de usuarios en una plataforma digital con el fin de identificar tendencias, detectar oportunidades de mejora y generar información valiosa para la propuesta de un nuevo producto literario."
   ]
  },
  {
   "cell_type": "markdown",
   "id": "7c85f276-ef62-4f3c-99ed-0553010d5a96",
   "metadata": {},
   "source": [
    "# Objetivos Específicos\n",
    "\n",
    "Determinar cuántos libros han sido publicados después del 1 de enero del año 2000, con el fin de analizar la producción editorial moderna en la plataforma.\n",
    "\n",
    "Calcular la cantidad de reseñas y la calificación promedio de cada libro para evaluar la recepción del contenido por parte de los usuarios.\n",
    "\n",
    "Identificar cuál editorial ha publicado la mayor cantidad de libros con más de 50 páginas, excluyendo así publicaciones menores como folletos o cuadernillos.\n",
    "\n",
    "Establecer qué autor posee la calificación promedio más alta, considerando solo aquellos libros que hayan recibido al menos 50 calificaciones, para garantizar una muestra representativa.\n",
    "\n",
    "Calcular el número promedio de reseñas escritas por los usuarios que han calificado más de 50 libros, con el objetivo de estudiar el comportamiento de los lectores más activos y comprometidos."
   ]
  },
  {
   "cell_type": "markdown",
   "id": "8a5800e7-197d-4715-9595-fa5a86d55c40",
   "metadata": {},
   "source": [
    "# Desarrollo del proyecto \n",
    "\n",
    "## Conexión a la base de datos "
   ]
  },
  {
   "cell_type": "code",
   "execution_count": 1,
   "id": "57b3ed8f-6610-488e-bbb5-cfa3147da4d3",
   "metadata": {},
   "outputs": [],
   "source": [
    "# importar librerías\n",
    "import pandas as pd\n",
    "from sqlalchemy import create_engine"
   ]
  },
  {
   "cell_type": "code",
   "execution_count": 2,
   "id": "ad2c8e4e-1e9b-480b-80fd-b8d7571fd8dc",
   "metadata": {},
   "outputs": [],
   "source": [
    "db_config = {'user': 'practicum_student',         # nombre de usuario\n",
    "             'pwd': 's65BlTKV3faNIGhmvJVzOqhs', # contraseña\n",
    "             'host': 'rc1b-wcoijxj3yxfsf3fs.mdb.yandexcloud.net',\n",
    "             'port': 6432,              # puerto de conexión\n",
    "             'db': 'data-analyst-final-project-db'}          # nombre de la base de datos\n",
    "\n",
    "connection_string = 'postgresql://{}:{}@{}:{}/{}'.format(db_config['user'],\n",
    "                                                                     db_config['pwd'],\n",
    "                                                                       db_config['host'],\n",
    "                                                                       db_config['port'],\n",
    "                                                                       db_config['db'])\n",
    "\n",
    "engine = create_engine(connection_string, connect_args={'sslmode':'require'})"
   ]
  },
  {
   "cell_type": "code",
   "execution_count": 3,
   "id": "0a3c6bb5-4ae4-4361-b404-890d6f31abfd",
   "metadata": {},
   "outputs": [],
   "source": [
    "# pd.read_sql(query, con = engine)"
   ]
  },
  {
   "cell_type": "markdown",
   "id": "fd7c5bdb-f5ef-420e-a100-b7254353217f",
   "metadata": {},
   "source": [
    "## Visualización de datos"
   ]
  },
  {
   "cell_type": "code",
   "execution_count": 4,
   "id": "00da6152-e2ed-4469-b26a-be6677e91de2",
   "metadata": {},
   "outputs": [
    {
     "data": {
      "text/html": [
       "<div>\n",
       "<style scoped>\n",
       "    .dataframe tbody tr th:only-of-type {\n",
       "        vertical-align: middle;\n",
       "    }\n",
       "\n",
       "    .dataframe tbody tr th {\n",
       "        vertical-align: top;\n",
       "    }\n",
       "\n",
       "    .dataframe thead th {\n",
       "        text-align: right;\n",
       "    }\n",
       "</style>\n",
       "<table border=\"1\" class=\"dataframe\">\n",
       "  <thead>\n",
       "    <tr style=\"text-align: right;\">\n",
       "      <th></th>\n",
       "      <th>book_id</th>\n",
       "      <th>author_id</th>\n",
       "      <th>title</th>\n",
       "      <th>num_pages</th>\n",
       "      <th>publication_date</th>\n",
       "      <th>publisher_id</th>\n",
       "    </tr>\n",
       "  </thead>\n",
       "  <tbody>\n",
       "    <tr>\n",
       "      <th>0</th>\n",
       "      <td>1</td>\n",
       "      <td>546</td>\n",
       "      <td>'Salem's Lot</td>\n",
       "      <td>594</td>\n",
       "      <td>2005-11-01</td>\n",
       "      <td>93</td>\n",
       "    </tr>\n",
       "    <tr>\n",
       "      <th>1</th>\n",
       "      <td>2</td>\n",
       "      <td>465</td>\n",
       "      <td>1 000 Places to See Before You Die</td>\n",
       "      <td>992</td>\n",
       "      <td>2003-05-22</td>\n",
       "      <td>336</td>\n",
       "    </tr>\n",
       "    <tr>\n",
       "      <th>2</th>\n",
       "      <td>3</td>\n",
       "      <td>407</td>\n",
       "      <td>13 Little Blue Envelopes (Little Blue Envelope...</td>\n",
       "      <td>322</td>\n",
       "      <td>2010-12-21</td>\n",
       "      <td>135</td>\n",
       "    </tr>\n",
       "    <tr>\n",
       "      <th>3</th>\n",
       "      <td>4</td>\n",
       "      <td>82</td>\n",
       "      <td>1491: New Revelations of the Americas Before C...</td>\n",
       "      <td>541</td>\n",
       "      <td>2006-10-10</td>\n",
       "      <td>309</td>\n",
       "    </tr>\n",
       "    <tr>\n",
       "      <th>4</th>\n",
       "      <td>5</td>\n",
       "      <td>125</td>\n",
       "      <td>1776</td>\n",
       "      <td>386</td>\n",
       "      <td>2006-07-04</td>\n",
       "      <td>268</td>\n",
       "    </tr>\n",
       "  </tbody>\n",
       "</table>\n",
       "</div>"
      ],
      "text/plain": [
       "   book_id  author_id                                              title  \\\n",
       "0        1        546                                       'Salem's Lot   \n",
       "1        2        465                 1 000 Places to See Before You Die   \n",
       "2        3        407  13 Little Blue Envelopes (Little Blue Envelope...   \n",
       "3        4         82  1491: New Revelations of the Americas Before C...   \n",
       "4        5        125                                               1776   \n",
       "\n",
       "   num_pages publication_date  publisher_id  \n",
       "0        594       2005-11-01            93  \n",
       "1        992       2003-05-22           336  \n",
       "2        322       2010-12-21           135  \n",
       "3        541       2006-10-10           309  \n",
       "4        386       2006-07-04           268  "
      ]
     },
     "execution_count": 4,
     "metadata": {},
     "output_type": "execute_result"
    }
   ],
   "source": [
    "query_books = \"\"\"\n",
    "SELECT * \n",
    "FROM books\n",
    "LIMIT 5;\n",
    "\"\"\"\n",
    "pd.read_sql(query_books, engine)"
   ]
  },
  {
   "cell_type": "code",
   "execution_count": 5,
   "id": "862e1050",
   "metadata": {},
   "outputs": [
    {
     "data": {
      "text/html": [
       "<div>\n",
       "<style scoped>\n",
       "    .dataframe tbody tr th:only-of-type {\n",
       "        vertical-align: middle;\n",
       "    }\n",
       "\n",
       "    .dataframe tbody tr th {\n",
       "        vertical-align: top;\n",
       "    }\n",
       "\n",
       "    .dataframe thead th {\n",
       "        text-align: right;\n",
       "    }\n",
       "</style>\n",
       "<table border=\"1\" class=\"dataframe\">\n",
       "  <thead>\n",
       "    <tr style=\"text-align: right;\">\n",
       "      <th></th>\n",
       "      <th>author_id</th>\n",
       "      <th>author</th>\n",
       "    </tr>\n",
       "  </thead>\n",
       "  <tbody>\n",
       "    <tr>\n",
       "      <th>0</th>\n",
       "      <td>1</td>\n",
       "      <td>A.S. Byatt</td>\n",
       "    </tr>\n",
       "    <tr>\n",
       "      <th>1</th>\n",
       "      <td>2</td>\n",
       "      <td>Aesop/Laura Harris/Laura Gibbs</td>\n",
       "    </tr>\n",
       "    <tr>\n",
       "      <th>2</th>\n",
       "      <td>3</td>\n",
       "      <td>Agatha Christie</td>\n",
       "    </tr>\n",
       "    <tr>\n",
       "      <th>3</th>\n",
       "      <td>4</td>\n",
       "      <td>Alan Brennert</td>\n",
       "    </tr>\n",
       "    <tr>\n",
       "      <th>4</th>\n",
       "      <td>5</td>\n",
       "      <td>Alan Moore/David   Lloyd</td>\n",
       "    </tr>\n",
       "  </tbody>\n",
       "</table>\n",
       "</div>"
      ],
      "text/plain": [
       "   author_id                          author\n",
       "0          1                      A.S. Byatt\n",
       "1          2  Aesop/Laura Harris/Laura Gibbs\n",
       "2          3                 Agatha Christie\n",
       "3          4                   Alan Brennert\n",
       "4          5        Alan Moore/David   Lloyd"
      ]
     },
     "execution_count": 5,
     "metadata": {},
     "output_type": "execute_result"
    }
   ],
   "source": [
    "query_authors = \"\"\"\n",
    "SELECT * \n",
    "FROM authors\n",
    "LIMIT 5;\n",
    "\"\"\"\n",
    "pd.read_sql(query_authors, engine)"
   ]
  },
  {
   "cell_type": "code",
   "execution_count": 6,
   "id": "259cf3fa",
   "metadata": {},
   "outputs": [
    {
     "data": {
      "text/html": [
       "<div>\n",
       "<style scoped>\n",
       "    .dataframe tbody tr th:only-of-type {\n",
       "        vertical-align: middle;\n",
       "    }\n",
       "\n",
       "    .dataframe tbody tr th {\n",
       "        vertical-align: top;\n",
       "    }\n",
       "\n",
       "    .dataframe thead th {\n",
       "        text-align: right;\n",
       "    }\n",
       "</style>\n",
       "<table border=\"1\" class=\"dataframe\">\n",
       "  <thead>\n",
       "    <tr style=\"text-align: right;\">\n",
       "      <th></th>\n",
       "      <th>publisher_id</th>\n",
       "      <th>publisher</th>\n",
       "    </tr>\n",
       "  </thead>\n",
       "  <tbody>\n",
       "    <tr>\n",
       "      <th>0</th>\n",
       "      <td>1</td>\n",
       "      <td>Ace</td>\n",
       "    </tr>\n",
       "    <tr>\n",
       "      <th>1</th>\n",
       "      <td>2</td>\n",
       "      <td>Ace Book</td>\n",
       "    </tr>\n",
       "    <tr>\n",
       "      <th>2</th>\n",
       "      <td>3</td>\n",
       "      <td>Ace Books</td>\n",
       "    </tr>\n",
       "    <tr>\n",
       "      <th>3</th>\n",
       "      <td>4</td>\n",
       "      <td>Ace Hardcover</td>\n",
       "    </tr>\n",
       "    <tr>\n",
       "      <th>4</th>\n",
       "      <td>5</td>\n",
       "      <td>Addison Wesley Publishing Company</td>\n",
       "    </tr>\n",
       "  </tbody>\n",
       "</table>\n",
       "</div>"
      ],
      "text/plain": [
       "   publisher_id                          publisher\n",
       "0             1                                Ace\n",
       "1             2                           Ace Book\n",
       "2             3                          Ace Books\n",
       "3             4                      Ace Hardcover\n",
       "4             5  Addison Wesley Publishing Company"
      ]
     },
     "execution_count": 6,
     "metadata": {},
     "output_type": "execute_result"
    }
   ],
   "source": [
    "query_publishers = \"\"\"\n",
    "SELECT * \n",
    "FROM publishers\n",
    "LIMIT 5;\n",
    "\"\"\"\n",
    "pd.read_sql(query_publishers, engine)"
   ]
  },
  {
   "cell_type": "code",
   "execution_count": 7,
   "id": "23a5576c",
   "metadata": {},
   "outputs": [
    {
     "data": {
      "text/html": [
       "<div>\n",
       "<style scoped>\n",
       "    .dataframe tbody tr th:only-of-type {\n",
       "        vertical-align: middle;\n",
       "    }\n",
       "\n",
       "    .dataframe tbody tr th {\n",
       "        vertical-align: top;\n",
       "    }\n",
       "\n",
       "    .dataframe thead th {\n",
       "        text-align: right;\n",
       "    }\n",
       "</style>\n",
       "<table border=\"1\" class=\"dataframe\">\n",
       "  <thead>\n",
       "    <tr style=\"text-align: right;\">\n",
       "      <th></th>\n",
       "      <th>rating_id</th>\n",
       "      <th>book_id</th>\n",
       "      <th>username</th>\n",
       "      <th>rating</th>\n",
       "    </tr>\n",
       "  </thead>\n",
       "  <tbody>\n",
       "    <tr>\n",
       "      <th>0</th>\n",
       "      <td>1</td>\n",
       "      <td>1</td>\n",
       "      <td>ryanfranco</td>\n",
       "      <td>4</td>\n",
       "    </tr>\n",
       "    <tr>\n",
       "      <th>1</th>\n",
       "      <td>2</td>\n",
       "      <td>1</td>\n",
       "      <td>grantpatricia</td>\n",
       "      <td>2</td>\n",
       "    </tr>\n",
       "    <tr>\n",
       "      <th>2</th>\n",
       "      <td>3</td>\n",
       "      <td>1</td>\n",
       "      <td>brandtandrea</td>\n",
       "      <td>5</td>\n",
       "    </tr>\n",
       "    <tr>\n",
       "      <th>3</th>\n",
       "      <td>4</td>\n",
       "      <td>2</td>\n",
       "      <td>lorichen</td>\n",
       "      <td>3</td>\n",
       "    </tr>\n",
       "    <tr>\n",
       "      <th>4</th>\n",
       "      <td>5</td>\n",
       "      <td>2</td>\n",
       "      <td>mariokeller</td>\n",
       "      <td>2</td>\n",
       "    </tr>\n",
       "  </tbody>\n",
       "</table>\n",
       "</div>"
      ],
      "text/plain": [
       "   rating_id  book_id       username  rating\n",
       "0          1        1     ryanfranco       4\n",
       "1          2        1  grantpatricia       2\n",
       "2          3        1   brandtandrea       5\n",
       "3          4        2       lorichen       3\n",
       "4          5        2    mariokeller       2"
      ]
     },
     "execution_count": 7,
     "metadata": {},
     "output_type": "execute_result"
    }
   ],
   "source": [
    "query_ratings = \"\"\"\n",
    "SELECT * \n",
    "FROM ratings\n",
    "LIMIT 5;\n",
    "\"\"\"\n",
    "pd.read_sql(query_ratings, engine)"
   ]
  },
  {
   "cell_type": "code",
   "execution_count": 8,
   "id": "ab34b5a8",
   "metadata": {},
   "outputs": [
    {
     "data": {
      "text/html": [
       "<div>\n",
       "<style scoped>\n",
       "    .dataframe tbody tr th:only-of-type {\n",
       "        vertical-align: middle;\n",
       "    }\n",
       "\n",
       "    .dataframe tbody tr th {\n",
       "        vertical-align: top;\n",
       "    }\n",
       "\n",
       "    .dataframe thead th {\n",
       "        text-align: right;\n",
       "    }\n",
       "</style>\n",
       "<table border=\"1\" class=\"dataframe\">\n",
       "  <thead>\n",
       "    <tr style=\"text-align: right;\">\n",
       "      <th></th>\n",
       "      <th>review_id</th>\n",
       "      <th>book_id</th>\n",
       "      <th>username</th>\n",
       "      <th>text</th>\n",
       "    </tr>\n",
       "  </thead>\n",
       "  <tbody>\n",
       "    <tr>\n",
       "      <th>0</th>\n",
       "      <td>1</td>\n",
       "      <td>1</td>\n",
       "      <td>brandtandrea</td>\n",
       "      <td>Mention society tell send professor analysis. ...</td>\n",
       "    </tr>\n",
       "    <tr>\n",
       "      <th>1</th>\n",
       "      <td>2</td>\n",
       "      <td>1</td>\n",
       "      <td>ryanfranco</td>\n",
       "      <td>Foot glass pretty audience hit themselves. Amo...</td>\n",
       "    </tr>\n",
       "    <tr>\n",
       "      <th>2</th>\n",
       "      <td>3</td>\n",
       "      <td>2</td>\n",
       "      <td>lorichen</td>\n",
       "      <td>Listen treat keep worry. Miss husband tax but ...</td>\n",
       "    </tr>\n",
       "    <tr>\n",
       "      <th>3</th>\n",
       "      <td>4</td>\n",
       "      <td>3</td>\n",
       "      <td>johnsonamanda</td>\n",
       "      <td>Finally month interesting blue could nature cu...</td>\n",
       "    </tr>\n",
       "    <tr>\n",
       "      <th>4</th>\n",
       "      <td>5</td>\n",
       "      <td>3</td>\n",
       "      <td>scotttamara</td>\n",
       "      <td>Nation purpose heavy give wait song will. List...</td>\n",
       "    </tr>\n",
       "  </tbody>\n",
       "</table>\n",
       "</div>"
      ],
      "text/plain": [
       "   review_id  book_id       username  \\\n",
       "0          1        1   brandtandrea   \n",
       "1          2        1     ryanfranco   \n",
       "2          3        2       lorichen   \n",
       "3          4        3  johnsonamanda   \n",
       "4          5        3    scotttamara   \n",
       "\n",
       "                                                text  \n",
       "0  Mention society tell send professor analysis. ...  \n",
       "1  Foot glass pretty audience hit themselves. Amo...  \n",
       "2  Listen treat keep worry. Miss husband tax but ...  \n",
       "3  Finally month interesting blue could nature cu...  \n",
       "4  Nation purpose heavy give wait song will. List...  "
      ]
     },
     "execution_count": 8,
     "metadata": {},
     "output_type": "execute_result"
    }
   ],
   "source": [
    "query_reviews = \"\"\"\n",
    "SELECT * \n",
    "FROM reviews\n",
    "LIMIT 5;\n",
    "\"\"\"\n",
    "pd.read_sql(query_reviews, engine)"
   ]
  },
  {
   "cell_type": "code",
   "execution_count": 9,
   "id": "6bdfce05-ad3a-4596-8576-7df37f4408e0",
   "metadata": {},
   "outputs": [],
   "source": [
    "books = pd.read_sql('SELECT * FROM books LIMIT 5;', engine)\n",
    "authors = pd.read_sql('SELECT * FROM authors LIMIT 5;', engine)\n",
    "publishers = pd.read_sql('SELECT * FROM publishers LIMIT 5;', engine)\n",
    "ratings = pd.read_sql('SELECT * FROM ratings LIMIT 5;', engine)\n",
    "reviews = pd.read_sql('SELECT * FROM reviews LIMIT 5;', engine)"
   ]
  },
  {
   "cell_type": "markdown",
   "id": "5aa6d443-0aae-4691-b560-fa4f6ebff8b3",
   "metadata": {},
   "source": [
    "## Número de libros publicados después del 1 de enero de 2000\n"
   ]
  },
  {
   "cell_type": "code",
   "execution_count": 10,
   "id": "4eb415bb-3fdf-4b00-a1cc-e5b8460a13ee",
   "metadata": {},
   "outputs": [
    {
     "data": {
      "text/html": [
       "<div>\n",
       "<style scoped>\n",
       "    .dataframe tbody tr th:only-of-type {\n",
       "        vertical-align: middle;\n",
       "    }\n",
       "\n",
       "    .dataframe tbody tr th {\n",
       "        vertical-align: top;\n",
       "    }\n",
       "\n",
       "    .dataframe thead th {\n",
       "        text-align: right;\n",
       "    }\n",
       "</style>\n",
       "<table border=\"1\" class=\"dataframe\">\n",
       "  <thead>\n",
       "    <tr style=\"text-align: right;\">\n",
       "      <th></th>\n",
       "      <th>books_after_2000</th>\n",
       "    </tr>\n",
       "  </thead>\n",
       "  <tbody>\n",
       "    <tr>\n",
       "      <th>0</th>\n",
       "      <td>819</td>\n",
       "    </tr>\n",
       "  </tbody>\n",
       "</table>\n",
       "</div>"
      ],
      "text/plain": [
       "   books_after_2000\n",
       "0               819"
      ]
     },
     "execution_count": 10,
     "metadata": {},
     "output_type": "execute_result"
    }
   ],
   "source": [
    "query_n_books = \"\"\"\n",
    "SELECT COUNT(*) AS books_after_2000\n",
    "FROM books\n",
    "WHERE publication_date > '2000-01-01';\n",
    "\"\"\"\n",
    "pd.read_sql(query_n_books, engine)"
   ]
  },
  {
   "cell_type": "markdown",
   "id": "b612df82-418e-4719-b175-dd26afe4eafb",
   "metadata": {},
   "source": [
    "Son 819 libros  publicados después del año 2000."
   ]
  },
  {
   "cell_type": "markdown",
   "id": "b207a11e-20bb-4461-bb8e-77bbc2ba1836",
   "metadata": {},
   "source": [
    "## Número de reseñas de usuarios y la calificación promedio para cada libro"
   ]
  },
  {
   "cell_type": "code",
   "execution_count": 11,
   "id": "4acca6e3-0a43-4ad3-9e53-e97c5d21d12a",
   "metadata": {},
   "outputs": [
    {
     "data": {
      "text/html": [
       "<div>\n",
       "<style scoped>\n",
       "    .dataframe tbody tr th:only-of-type {\n",
       "        vertical-align: middle;\n",
       "    }\n",
       "\n",
       "    .dataframe tbody tr th {\n",
       "        vertical-align: top;\n",
       "    }\n",
       "\n",
       "    .dataframe thead th {\n",
       "        text-align: right;\n",
       "    }\n",
       "</style>\n",
       "<table border=\"1\" class=\"dataframe\">\n",
       "  <thead>\n",
       "    <tr style=\"text-align: right;\">\n",
       "      <th></th>\n",
       "      <th>title</th>\n",
       "      <th>num_reviews</th>\n",
       "      <th>avg_rating</th>\n",
       "    </tr>\n",
       "  </thead>\n",
       "  <tbody>\n",
       "    <tr>\n",
       "      <th>0</th>\n",
       "      <td>'Salem's Lot</td>\n",
       "      <td>2</td>\n",
       "      <td>3.67</td>\n",
       "    </tr>\n",
       "    <tr>\n",
       "      <th>1</th>\n",
       "      <td>1 000 Places to See Before You Die</td>\n",
       "      <td>1</td>\n",
       "      <td>2.50</td>\n",
       "    </tr>\n",
       "    <tr>\n",
       "      <th>2</th>\n",
       "      <td>13 Little Blue Envelopes (Little Blue Envelope...</td>\n",
       "      <td>3</td>\n",
       "      <td>4.67</td>\n",
       "    </tr>\n",
       "    <tr>\n",
       "      <th>3</th>\n",
       "      <td>1491: New Revelations of the Americas Before C...</td>\n",
       "      <td>2</td>\n",
       "      <td>4.50</td>\n",
       "    </tr>\n",
       "    <tr>\n",
       "      <th>4</th>\n",
       "      <td>1776</td>\n",
       "      <td>4</td>\n",
       "      <td>4.00</td>\n",
       "    </tr>\n",
       "    <tr>\n",
       "      <th>...</th>\n",
       "      <td>...</td>\n",
       "      <td>...</td>\n",
       "      <td>...</td>\n",
       "    </tr>\n",
       "    <tr>\n",
       "      <th>994</th>\n",
       "      <td>Wyrd Sisters (Discworld  #6; Witches #2)</td>\n",
       "      <td>3</td>\n",
       "      <td>3.67</td>\n",
       "    </tr>\n",
       "    <tr>\n",
       "      <th>995</th>\n",
       "      <td>Xenocide (Ender's Saga  #3)</td>\n",
       "      <td>3</td>\n",
       "      <td>3.40</td>\n",
       "    </tr>\n",
       "    <tr>\n",
       "      <th>996</th>\n",
       "      <td>Year of Wonders</td>\n",
       "      <td>4</td>\n",
       "      <td>3.20</td>\n",
       "    </tr>\n",
       "    <tr>\n",
       "      <th>997</th>\n",
       "      <td>You Suck (A Love Story  #2)</td>\n",
       "      <td>2</td>\n",
       "      <td>4.50</td>\n",
       "    </tr>\n",
       "    <tr>\n",
       "      <th>998</th>\n",
       "      <td>Zen and the Art of Motorcycle Maintenance: An ...</td>\n",
       "      <td>4</td>\n",
       "      <td>3.83</td>\n",
       "    </tr>\n",
       "  </tbody>\n",
       "</table>\n",
       "<p>999 rows × 3 columns</p>\n",
       "</div>"
      ],
      "text/plain": [
       "                                                 title  num_reviews  \\\n",
       "0                                         'Salem's Lot            2   \n",
       "1                   1 000 Places to See Before You Die            1   \n",
       "2    13 Little Blue Envelopes (Little Blue Envelope...            3   \n",
       "3    1491: New Revelations of the Americas Before C...            2   \n",
       "4                                                 1776            4   \n",
       "..                                                 ...          ...   \n",
       "994           Wyrd Sisters (Discworld  #6; Witches #2)            3   \n",
       "995                        Xenocide (Ender's Saga  #3)            3   \n",
       "996                                    Year of Wonders            4   \n",
       "997                        You Suck (A Love Story  #2)            2   \n",
       "998  Zen and the Art of Motorcycle Maintenance: An ...            4   \n",
       "\n",
       "     avg_rating  \n",
       "0          3.67  \n",
       "1          2.50  \n",
       "2          4.67  \n",
       "3          4.50  \n",
       "4          4.00  \n",
       "..          ...  \n",
       "994        3.67  \n",
       "995        3.40  \n",
       "996        3.20  \n",
       "997        4.50  \n",
       "998        3.83  \n",
       "\n",
       "[999 rows x 3 columns]"
      ]
     },
     "execution_count": 11,
     "metadata": {},
     "output_type": "execute_result"
    }
   ],
   "source": [
    "query_rev_rat = \"\"\"\n",
    "SELECT\n",
    "    b.title,\n",
    "    COUNT(DISTINCT re.review_id) AS num_reviews,\n",
    "    ROUND(AVG(r.rating), 2) AS avg_rating\n",
    "FROM books b\n",
    "LEFT JOIN reviews re ON b.book_id = re.book_id\n",
    "LEFT JOIN ratings r ON b.book_id = r.book_id\n",
    "GROUP BY b.title;\n",
    "\"\"\"\n",
    "pd.read_sql(query_rev_rat, engine)"
   ]
  },
  {
   "cell_type": "markdown",
   "id": "d9599d21-ec04-417e-b5e6-cc752b38ebf8",
   "metadata": {},
   "source": [
    "Esta tabla te permite:\n",
    "\n",
    "- Identificar libros que tienen buenas calificaciones pero pocas reseñas.\n",
    "- Detectar títulos con muchas reseñas pero baja calificación.\n",
    "- Medir las preferencias del usuario por título."
   ]
  },
  {
   "cell_type": "markdown",
   "id": "a74d64ff-f82e-4c67-8bcb-f38b42826ee3",
   "metadata": {},
   "source": [
    "## Editorial que ha publicado el mayor número de libros con más de 50 páginas"
   ]
  },
  {
   "cell_type": "code",
   "execution_count": 12,
   "id": "a170588c-ab01-427e-ac87-7c233dac7edc",
   "metadata": {},
   "outputs": [
    {
     "data": {
      "text/html": [
       "<div>\n",
       "<style scoped>\n",
       "    .dataframe tbody tr th:only-of-type {\n",
       "        vertical-align: middle;\n",
       "    }\n",
       "\n",
       "    .dataframe tbody tr th {\n",
       "        vertical-align: top;\n",
       "    }\n",
       "\n",
       "    .dataframe thead th {\n",
       "        text-align: right;\n",
       "    }\n",
       "</style>\n",
       "<table border=\"1\" class=\"dataframe\">\n",
       "  <thead>\n",
       "    <tr style=\"text-align: right;\">\n",
       "      <th></th>\n",
       "      <th>publisher</th>\n",
       "      <th>num_books</th>\n",
       "    </tr>\n",
       "  </thead>\n",
       "  <tbody>\n",
       "    <tr>\n",
       "      <th>0</th>\n",
       "      <td>Penguin Books</td>\n",
       "      <td>42</td>\n",
       "    </tr>\n",
       "  </tbody>\n",
       "</table>\n",
       "</div>"
      ],
      "text/plain": [
       "       publisher  num_books\n",
       "0  Penguin Books         42"
      ]
     },
     "execution_count": 12,
     "metadata": {},
     "output_type": "execute_result"
    }
   ],
   "source": [
    "query_ed_pag= \"\"\"\n",
    "SELECT\n",
    "    p.publisher,\n",
    "    COUNT(b.book_id) AS num_books\n",
    "FROM books b\n",
    "JOIN publishers p ON b.publisher_id = p.publisher_id\n",
    "WHERE b.num_pages > 50\n",
    "GROUP BY p.publisher\n",
    "ORDER BY num_books DESC\n",
    "LIMIT 1;\n",
    "\"\"\"\n",
    "pd.read_sql(query_ed_pag, engine)"
   ]
  },
  {
   "cell_type": "markdown",
   "id": "7bbc8938-bb6e-4af5-8bfa-e8a84063bada",
   "metadata": {},
   "source": [
    "\n",
    "`Penguin Books` es la editorial con mayor número de publicaciones largas (más de 50 páginas). Esto sugiere que esta editorial tiene un catálogo amplio y probablemente está enfocada en contenido más extenso, lo que la hace relevante para lectores frecuentes o exigentes.\n"
   ]
  },
  {
   "cell_type": "markdown",
   "id": "cd3f204c-fb68-4377-a96a-923c6669fa06",
   "metadata": {},
   "source": [
    "## Autor que tiene la más alta calificación promedio del libro"
   ]
  },
  {
   "cell_type": "code",
   "execution_count": 13,
   "id": "46f06c5a-fd5b-4158-8a5e-fd4ae183ffa6",
   "metadata": {},
   "outputs": [
    {
     "data": {
      "text/html": [
       "<div>\n",
       "<style scoped>\n",
       "    .dataframe tbody tr th:only-of-type {\n",
       "        vertical-align: middle;\n",
       "    }\n",
       "\n",
       "    .dataframe tbody tr th {\n",
       "        vertical-align: top;\n",
       "    }\n",
       "\n",
       "    .dataframe thead th {\n",
       "        text-align: right;\n",
       "    }\n",
       "</style>\n",
       "<table border=\"1\" class=\"dataframe\">\n",
       "  <thead>\n",
       "    <tr style=\"text-align: right;\">\n",
       "      <th></th>\n",
       "      <th>author</th>\n",
       "      <th>avg_rating</th>\n",
       "    </tr>\n",
       "  </thead>\n",
       "  <tbody>\n",
       "    <tr>\n",
       "      <th>0</th>\n",
       "      <td>Diana Gabaldon</td>\n",
       "      <td>4.3</td>\n",
       "    </tr>\n",
       "  </tbody>\n",
       "</table>\n",
       "</div>"
      ],
      "text/plain": [
       "           author  avg_rating\n",
       "0  Diana Gabaldon         4.3"
      ]
     },
     "execution_count": 13,
     "metadata": {},
     "output_type": "execute_result"
    }
   ],
   "source": [
    "query_aut_rat= \"\"\"\n",
    "SELECT\n",
    "    a.author,\n",
    "    ROUND(AVG(r.rating), 2) AS avg_rating\n",
    "FROM books b\n",
    "JOIN authors a ON b.author_id = a.author_id\n",
    "JOIN ratings r ON b.book_id = r.book_id\n",
    "GROUP BY a.author\n",
    "HAVING COUNT(r.rating_id) >= 50\n",
    "ORDER BY avg_rating DESC\n",
    "LIMIT 1;\n",
    "\"\"\"\n",
    "pd.read_sql(query_aut_rat, engine)"
   ]
  },
  {
   "cell_type": "markdown",
   "id": "f29566a5-e2ee-425b-a935-9b366302f0ca",
   "metadata": {},
   "source": [
    "\n",
    "**Diana Gabaldon** es la autora mejor valorada entre aquellos cuyas obras tienen al menos 50 calificaciones.Esto quiere decir que no solo es una autora popular, sino que también mantiene una alta calidad y consistencia en la percepción del público.\n",
    "\n",
    "Sus libros pueden ser ideales para recomendaciones destacadas, clubes de lectura o nuevas funcionalidades del producto basadas en autores más confiables."
   ]
  },
  {
   "cell_type": "markdown",
   "id": "a407db59-2f6b-4a35-8d7f-2fbbb0c3e6ca",
   "metadata": {},
   "source": [
    "## Número promedio de reseñas de texto entre los usuarios que calificaron más de 50 libros."
   ]
  },
  {
   "cell_type": "code",
   "execution_count": 15,
   "id": "86981ca0-7c4c-4efe-b763-05102240eded",
   "metadata": {},
   "outputs": [
    {
     "data": {
      "text/html": [
       "<div>\n",
       "<style scoped>\n",
       "    .dataframe tbody tr th:only-of-type {\n",
       "        vertical-align: middle;\n",
       "    }\n",
       "\n",
       "    .dataframe tbody tr th {\n",
       "        vertical-align: top;\n",
       "    }\n",
       "\n",
       "    .dataframe thead th {\n",
       "        text-align: right;\n",
       "    }\n",
       "</style>\n",
       "<table border=\"1\" class=\"dataframe\">\n",
       "  <thead>\n",
       "    <tr style=\"text-align: right;\">\n",
       "      <th></th>\n",
       "      <th>avg_rev_user</th>\n",
       "    </tr>\n",
       "  </thead>\n",
       "  <tbody>\n",
       "    <tr>\n",
       "      <th>0</th>\n",
       "      <td>24.33</td>\n",
       "    </tr>\n",
       "  </tbody>\n",
       "</table>\n",
       "</div>"
      ],
      "text/plain": [
       "   avg_rev_user\n",
       "0         24.33"
      ]
     },
     "execution_count": 15,
     "metadata": {},
     "output_type": "execute_result"
    }
   ],
   "source": [
    "query_prom= \"\"\"\n",
    "WITH users_50 AS (\n",
    "    SELECT username\n",
    "    FROM ratings\n",
    "    GROUP BY username\n",
    "    HAVING COUNT(rating_id) > 50\n",
    ")\n",
    "\n",
    "SELECT ROUND(AVG(user_rev.review_count), 2) AS avg_rev_user\n",
    "FROM (\n",
    "    SELECT username, COUNT(review_id) AS review_count\n",
    "    FROM reviews\n",
    "    WHERE username IN (SELECT username FROM users_50)\n",
    "    GROUP BY username\n",
    ") AS user_rev;\n",
    "\"\"\"\n",
    "pd.read_sql(query_prom, engine)"
   ]
  },
  {
   "cell_type": "markdown",
   "id": "60d39d20-1043-49b5-994d-12f857654681",
   "metadata": {},
   "source": [
    "Los usuarios que calificaron más de 50 libros escribieron en promedio 24.33 reseñas de texto. Los usuarios más activos en calificaciones también tienen un nivel alto de participación.\n",
    "\n",
    "Podriamos implementar \n",
    "- Programas de fidelización.\n",
    "- Recopilación de reseñas de texto para nuevos lanzamientos"
   ]
  },
  {
   "cell_type": "markdown",
   "id": "4a466a62-47f8-4a83-8b70-7d2e266e08c4",
   "metadata": {},
   "source": [
    "# Conclusiones\n",
    "El análisis exploratorio de la base de datos del servicio digital de libros permitió identificar patrones clave en el comportamiento de los usuarios, las editoriales y los autores, así como evaluar la calidad y alcance del contenido publicado. \n",
    "\n",
    "En conjunto, estos resultados ofrecen insumos importantes para fortalecer la propuesta de valor de la plataforma, orientar decisiones, y diseñar estrategias centradas en los lectores más activos, los autores mejor valorados y las editoriales más influyentes.\n"
   ]
  }
 ],
 "metadata": {
  "kernelspec": {
   "display_name": "Python 3 (ipykernel)",
   "language": "python",
   "name": "python3"
  },
  "language_info": {
   "codemirror_mode": {
    "name": "ipython",
    "version": 3
   },
   "file_extension": ".py",
   "mimetype": "text/x-python",
   "name": "python",
   "nbconvert_exporter": "python",
   "pygments_lexer": "ipython3",
   "version": "3.12.4"
  }
 },
 "nbformat": 4,
 "nbformat_minor": 5
}
