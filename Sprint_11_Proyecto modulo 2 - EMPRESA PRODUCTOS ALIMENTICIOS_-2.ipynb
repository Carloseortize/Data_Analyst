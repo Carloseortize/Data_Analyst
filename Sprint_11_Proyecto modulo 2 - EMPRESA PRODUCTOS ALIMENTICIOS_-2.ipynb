{
 "cells": [
  {
   "cell_type": "code",
   "execution_count": null,
   "metadata": {},
   "outputs": [],
   "source": []
  },
  {
   "cell_type": "markdown",
   "metadata": {},
   "source": [
    "# Sprint 11 - Proyecto modulo 2 - EMPRESA PRODUCTOS ALIMENTICIOS - Carlos Ortiz"
   ]
  },
  {
   "cell_type": "markdown",
   "metadata": {},
   "source": [
    "# Introducción"
   ]
  },
  {
   "cell_type": "markdown",
   "metadata": {},
   "source": [
    "En el competitivo mundo de las aplicaciones móviles de productos alimenticios, comprender el comportamiento del usuario es clave para mejorar la experiencia del cliente y aumentar la conversión. Este proyecto analiza los registros de eventos de usuarios dentro de la aplicación de una empresa emergente, con el fin de identificar patrones de uso, puntos de abandono en el embudo de ventas y el impacto de cambios en el diseño de la interfaz. Mediante el análisis de datos y la validación de experimentos tipo A/A/B, se busca tomar decisiones informadas sobre la evolución del producto."
   ]
  },
  {
   "cell_type": "markdown",
   "metadata": {},
   "source": [
    "# Objetivo general\n",
    "Analizar el comportamiento de los usuarios en la aplicación para identificar oportunidades de mejora en el embudo de ventas y evaluar el impacto del rediseño tipográfico a través de un experimento A/A/B.\n"
   ]
  },
  {
   "cell_type": "markdown",
   "metadata": {},
   "source": [
    "# Objetivos específicos\n",
    "\n",
    "1. Estudiar las etapas del embudo de ventas y determinar en cuáles se produce la mayor pérdida de usuarios.\n",
    "\n",
    "2. Evaluar la calidad y distribución de los datos recopilados, asegurando su validez para el análisis.\n",
    "\n",
    "3. Comparar estadísticamente los grupos experimentales A/A/B para identificar si el nuevo diseño afecta el comportamiento de los usuarios."
   ]
  },
  {
   "cell_type": "markdown",
   "metadata": {},
   "source": [
    "# Desarrollo del proyecto"
   ]
  },
  {
   "cell_type": "code",
   "execution_count": 1,
   "metadata": {},
   "outputs": [],
   "source": [
    "# Importar librerias \n",
    "import pandas as pd\n",
    "import scipy.stats as stats\n",
    "import datetime as dt\n",
    "import numpy as np\n",
    "import matplotlib.pyplot as plt\n",
    "import seaborn as sns\n",
    "from scipy.stats import mannwhitneyu\n",
    "from statsmodels.stats.proportion import proportions_ztest\n",
    "\n"
   ]
  },
  {
   "cell_type": "markdown",
   "metadata": {},
   "source": [
    "## Abrir el archivo de datos y leer la información genera"
   ]
  },
  {
   "cell_type": "code",
   "execution_count": 2,
   "metadata": {},
   "outputs": [
    {
     "data": {
      "text/html": [
       "<div>\n",
       "<style scoped>\n",
       "    .dataframe tbody tr th:only-of-type {\n",
       "        vertical-align: middle;\n",
       "    }\n",
       "\n",
       "    .dataframe tbody tr th {\n",
       "        vertical-align: top;\n",
       "    }\n",
       "\n",
       "    .dataframe thead th {\n",
       "        text-align: right;\n",
       "    }\n",
       "</style>\n",
       "<table border=\"1\" class=\"dataframe\">\n",
       "  <thead>\n",
       "    <tr style=\"text-align: right;\">\n",
       "      <th></th>\n",
       "      <th>EventName</th>\n",
       "      <th>DeviceIDHash</th>\n",
       "      <th>EventTimestamp</th>\n",
       "      <th>ExpId</th>\n",
       "    </tr>\n",
       "  </thead>\n",
       "  <tbody>\n",
       "    <tr>\n",
       "      <th>0</th>\n",
       "      <td>MainScreenAppear</td>\n",
       "      <td>4575588528974610257</td>\n",
       "      <td>1564029816</td>\n",
       "      <td>246</td>\n",
       "    </tr>\n",
       "    <tr>\n",
       "      <th>1</th>\n",
       "      <td>MainScreenAppear</td>\n",
       "      <td>7416695313311560658</td>\n",
       "      <td>1564053102</td>\n",
       "      <td>246</td>\n",
       "    </tr>\n",
       "    <tr>\n",
       "      <th>2</th>\n",
       "      <td>PaymentScreenSuccessful</td>\n",
       "      <td>3518123091307005509</td>\n",
       "      <td>1564054127</td>\n",
       "      <td>248</td>\n",
       "    </tr>\n",
       "    <tr>\n",
       "      <th>3</th>\n",
       "      <td>CartScreenAppear</td>\n",
       "      <td>3518123091307005509</td>\n",
       "      <td>1564054127</td>\n",
       "      <td>248</td>\n",
       "    </tr>\n",
       "    <tr>\n",
       "      <th>4</th>\n",
       "      <td>PaymentScreenSuccessful</td>\n",
       "      <td>6217807653094995999</td>\n",
       "      <td>1564055322</td>\n",
       "      <td>248</td>\n",
       "    </tr>\n",
       "    <tr>\n",
       "      <th>...</th>\n",
       "      <td>...</td>\n",
       "      <td>...</td>\n",
       "      <td>...</td>\n",
       "      <td>...</td>\n",
       "    </tr>\n",
       "    <tr>\n",
       "      <th>244121</th>\n",
       "      <td>MainScreenAppear</td>\n",
       "      <td>4599628364049201812</td>\n",
       "      <td>1565212345</td>\n",
       "      <td>247</td>\n",
       "    </tr>\n",
       "    <tr>\n",
       "      <th>244122</th>\n",
       "      <td>MainScreenAppear</td>\n",
       "      <td>5849806612437486590</td>\n",
       "      <td>1565212439</td>\n",
       "      <td>246</td>\n",
       "    </tr>\n",
       "    <tr>\n",
       "      <th>244123</th>\n",
       "      <td>MainScreenAppear</td>\n",
       "      <td>5746969938801999050</td>\n",
       "      <td>1565212483</td>\n",
       "      <td>246</td>\n",
       "    </tr>\n",
       "    <tr>\n",
       "      <th>244124</th>\n",
       "      <td>MainScreenAppear</td>\n",
       "      <td>5746969938801999050</td>\n",
       "      <td>1565212498</td>\n",
       "      <td>246</td>\n",
       "    </tr>\n",
       "    <tr>\n",
       "      <th>244125</th>\n",
       "      <td>OffersScreenAppear</td>\n",
       "      <td>5746969938801999050</td>\n",
       "      <td>1565212517</td>\n",
       "      <td>246</td>\n",
       "    </tr>\n",
       "  </tbody>\n",
       "</table>\n",
       "<p>244126 rows × 4 columns</p>\n",
       "</div>"
      ],
      "text/plain": [
       "                      EventName         DeviceIDHash  EventTimestamp  ExpId\n",
       "0              MainScreenAppear  4575588528974610257      1564029816    246\n",
       "1              MainScreenAppear  7416695313311560658      1564053102    246\n",
       "2       PaymentScreenSuccessful  3518123091307005509      1564054127    248\n",
       "3              CartScreenAppear  3518123091307005509      1564054127    248\n",
       "4       PaymentScreenSuccessful  6217807653094995999      1564055322    248\n",
       "...                         ...                  ...             ...    ...\n",
       "244121         MainScreenAppear  4599628364049201812      1565212345    247\n",
       "244122         MainScreenAppear  5849806612437486590      1565212439    246\n",
       "244123         MainScreenAppear  5746969938801999050      1565212483    246\n",
       "244124         MainScreenAppear  5746969938801999050      1565212498    246\n",
       "244125       OffersScreenAppear  5746969938801999050      1565212517    246\n",
       "\n",
       "[244126 rows x 4 columns]"
      ]
     },
     "execution_count": 2,
     "metadata": {},
     "output_type": "execute_result"
    }
   ],
   "source": [
    "data = pd.read_csv('/datasets/logs_exp_us.csv', sep='\\t')\n",
    "data"
   ]
  },
  {
   "cell_type": "code",
   "execution_count": 3,
   "metadata": {},
   "outputs": [
    {
     "name": "stdout",
     "output_type": "stream",
     "text": [
      "<class 'pandas.core.frame.DataFrame'>\n",
      "RangeIndex: 244126 entries, 0 to 244125\n",
      "Data columns (total 4 columns):\n",
      " #   Column          Non-Null Count   Dtype \n",
      "---  ------          --------------   ----- \n",
      " 0   EventName       244126 non-null  object\n",
      " 1   DeviceIDHash    244126 non-null  int64 \n",
      " 2   EventTimestamp  244126 non-null  int64 \n",
      " 3   ExpId           244126 non-null  int64 \n",
      "dtypes: int64(3), object(1)\n",
      "memory usage: 7.5+ MB\n"
     ]
    }
   ],
   "source": [
    "data.info()"
   ]
  },
  {
   "cell_type": "markdown",
   "metadata": {},
   "source": [
    "##  Preparar los datos para el análisis"
   ]
  },
  {
   "cell_type": "code",
   "execution_count": 4,
   "metadata": {},
   "outputs": [
    {
     "data": {
      "text/html": [
       "<div>\n",
       "<style scoped>\n",
       "    .dataframe tbody tr th:only-of-type {\n",
       "        vertical-align: middle;\n",
       "    }\n",
       "\n",
       "    .dataframe tbody tr th {\n",
       "        vertical-align: top;\n",
       "    }\n",
       "\n",
       "    .dataframe thead th {\n",
       "        text-align: right;\n",
       "    }\n",
       "</style>\n",
       "<table border=\"1\" class=\"dataframe\">\n",
       "  <thead>\n",
       "    <tr style=\"text-align: right;\">\n",
       "      <th></th>\n",
       "      <th>EventName</th>\n",
       "      <th>DeviceIDHash</th>\n",
       "      <th>EventTimestamp</th>\n",
       "      <th>ExpId</th>\n",
       "      <th>date</th>\n",
       "      <th>hour</th>\n",
       "    </tr>\n",
       "  </thead>\n",
       "  <tbody>\n",
       "    <tr>\n",
       "      <th>0</th>\n",
       "      <td>MainScreenAppear</td>\n",
       "      <td>4575588528974610257</td>\n",
       "      <td>2019-07-25 04:43:36</td>\n",
       "      <td>246</td>\n",
       "      <td>2019-07-25</td>\n",
       "      <td>04:43:36</td>\n",
       "    </tr>\n",
       "    <tr>\n",
       "      <th>1</th>\n",
       "      <td>MainScreenAppear</td>\n",
       "      <td>7416695313311560658</td>\n",
       "      <td>2019-07-25 11:11:42</td>\n",
       "      <td>246</td>\n",
       "      <td>2019-07-25</td>\n",
       "      <td>11:11:42</td>\n",
       "    </tr>\n",
       "    <tr>\n",
       "      <th>2</th>\n",
       "      <td>PaymentScreenSuccessful</td>\n",
       "      <td>3518123091307005509</td>\n",
       "      <td>2019-07-25 11:28:47</td>\n",
       "      <td>248</td>\n",
       "      <td>2019-07-25</td>\n",
       "      <td>11:28:47</td>\n",
       "    </tr>\n",
       "    <tr>\n",
       "      <th>3</th>\n",
       "      <td>CartScreenAppear</td>\n",
       "      <td>3518123091307005509</td>\n",
       "      <td>2019-07-25 11:28:47</td>\n",
       "      <td>248</td>\n",
       "      <td>2019-07-25</td>\n",
       "      <td>11:28:47</td>\n",
       "    </tr>\n",
       "    <tr>\n",
       "      <th>4</th>\n",
       "      <td>PaymentScreenSuccessful</td>\n",
       "      <td>6217807653094995999</td>\n",
       "      <td>2019-07-25 11:48:42</td>\n",
       "      <td>248</td>\n",
       "      <td>2019-07-25</td>\n",
       "      <td>11:48:42</td>\n",
       "    </tr>\n",
       "    <tr>\n",
       "      <th>...</th>\n",
       "      <td>...</td>\n",
       "      <td>...</td>\n",
       "      <td>...</td>\n",
       "      <td>...</td>\n",
       "      <td>...</td>\n",
       "      <td>...</td>\n",
       "    </tr>\n",
       "    <tr>\n",
       "      <th>244121</th>\n",
       "      <td>MainScreenAppear</td>\n",
       "      <td>4599628364049201812</td>\n",
       "      <td>2019-08-07 21:12:25</td>\n",
       "      <td>247</td>\n",
       "      <td>2019-08-07</td>\n",
       "      <td>21:12:25</td>\n",
       "    </tr>\n",
       "    <tr>\n",
       "      <th>244122</th>\n",
       "      <td>MainScreenAppear</td>\n",
       "      <td>5849806612437486590</td>\n",
       "      <td>2019-08-07 21:13:59</td>\n",
       "      <td>246</td>\n",
       "      <td>2019-08-07</td>\n",
       "      <td>21:13:59</td>\n",
       "    </tr>\n",
       "    <tr>\n",
       "      <th>244123</th>\n",
       "      <td>MainScreenAppear</td>\n",
       "      <td>5746969938801999050</td>\n",
       "      <td>2019-08-07 21:14:43</td>\n",
       "      <td>246</td>\n",
       "      <td>2019-08-07</td>\n",
       "      <td>21:14:43</td>\n",
       "    </tr>\n",
       "    <tr>\n",
       "      <th>244124</th>\n",
       "      <td>MainScreenAppear</td>\n",
       "      <td>5746969938801999050</td>\n",
       "      <td>2019-08-07 21:14:58</td>\n",
       "      <td>246</td>\n",
       "      <td>2019-08-07</td>\n",
       "      <td>21:14:58</td>\n",
       "    </tr>\n",
       "    <tr>\n",
       "      <th>244125</th>\n",
       "      <td>OffersScreenAppear</td>\n",
       "      <td>5746969938801999050</td>\n",
       "      <td>2019-08-07 21:15:17</td>\n",
       "      <td>246</td>\n",
       "      <td>2019-08-07</td>\n",
       "      <td>21:15:17</td>\n",
       "    </tr>\n",
       "  </tbody>\n",
       "</table>\n",
       "<p>244126 rows × 6 columns</p>\n",
       "</div>"
      ],
      "text/plain": [
       "                      EventName         DeviceIDHash      EventTimestamp  \\\n",
       "0              MainScreenAppear  4575588528974610257 2019-07-25 04:43:36   \n",
       "1              MainScreenAppear  7416695313311560658 2019-07-25 11:11:42   \n",
       "2       PaymentScreenSuccessful  3518123091307005509 2019-07-25 11:28:47   \n",
       "3              CartScreenAppear  3518123091307005509 2019-07-25 11:28:47   \n",
       "4       PaymentScreenSuccessful  6217807653094995999 2019-07-25 11:48:42   \n",
       "...                         ...                  ...                 ...   \n",
       "244121         MainScreenAppear  4599628364049201812 2019-08-07 21:12:25   \n",
       "244122         MainScreenAppear  5849806612437486590 2019-08-07 21:13:59   \n",
       "244123         MainScreenAppear  5746969938801999050 2019-08-07 21:14:43   \n",
       "244124         MainScreenAppear  5746969938801999050 2019-08-07 21:14:58   \n",
       "244125       OffersScreenAppear  5746969938801999050 2019-08-07 21:15:17   \n",
       "\n",
       "        ExpId       date      hour  \n",
       "0         246 2019-07-25  04:43:36  \n",
       "1         246 2019-07-25  11:11:42  \n",
       "2         248 2019-07-25  11:28:47  \n",
       "3         248 2019-07-25  11:28:47  \n",
       "4         248 2019-07-25  11:48:42  \n",
       "...       ...        ...       ...  \n",
       "244121    247 2019-08-07  21:12:25  \n",
       "244122    246 2019-08-07  21:13:59  \n",
       "244123    246 2019-08-07  21:14:43  \n",
       "244124    246 2019-08-07  21:14:58  \n",
       "244125    246 2019-08-07  21:15:17  \n",
       "\n",
       "[244126 rows x 6 columns]"
      ]
     },
     "execution_count": 4,
     "metadata": {},
     "output_type": "execute_result"
    }
   ],
   "source": [
    "data['EventTimestamp'] = pd.to_datetime(data['EventTimestamp'],unit='s')\n",
    "data['date'] = data['EventTimestamp'].dt.normalize()\n",
    "data['hour'] = data['EventTimestamp'].dt.time.astype(str)\n",
    "\n",
    "data"
   ]
  },
  {
   "cell_type": "code",
   "execution_count": 5,
   "metadata": {},
   "outputs": [
    {
     "name": "stdout",
     "output_type": "stream",
     "text": [
      "<class 'pandas.core.frame.DataFrame'>\n",
      "RangeIndex: 244126 entries, 0 to 244125\n",
      "Data columns (total 6 columns):\n",
      " #   Column          Non-Null Count   Dtype         \n",
      "---  ------          --------------   -----         \n",
      " 0   EventName       244126 non-null  object        \n",
      " 1   DeviceIDHash    244126 non-null  int64         \n",
      " 2   EventTimestamp  244126 non-null  datetime64[ns]\n",
      " 3   ExpId           244126 non-null  int64         \n",
      " 4   date            244126 non-null  datetime64[ns]\n",
      " 5   hour            244126 non-null  object        \n",
      "dtypes: datetime64[ns](2), int64(2), object(2)\n",
      "memory usage: 11.2+ MB\n"
     ]
    }
   ],
   "source": [
    "data.info()"
   ]
  },
  {
   "cell_type": "markdown",
   "metadata": {},
   "source": [
    "Se verificaron los datos cargados y, al revisar el tipo de dato correspondiente a la fecha de los eventos, se evidenció que venían en formato Unix timestamp (es decir, los segundos transcurridos desde el 1 de enero de 1970). Se realizó la conversión al formato datetime y, posteriormente, se separaron las fechas y las horas en columnas distintas para facilitar el análisis temporal. Como observación adicional, no se encontraron valores faltantes en el conjunto de datos."
   ]
  },
  {
   "cell_type": "markdown",
   "metadata": {},
   "source": [
    "## Estudiar y comprobar los datos"
   ]
  },
  {
   "cell_type": "markdown",
   "metadata": {},
   "source": [
    "### ¿Cuántos eventos hay en los registros?"
   ]
  },
  {
   "cell_type": "code",
   "execution_count": 6,
   "metadata": {},
   "outputs": [
    {
     "name": "stdout",
     "output_type": "stream",
     "text": [
      "5\n",
      "['MainScreenAppear' 'PaymentScreenSuccessful' 'CartScreenAppear'\n",
      " 'OffersScreenAppear' 'Tutorial']\n"
     ]
    }
   ],
   "source": [
    "print(data['EventName'].nunique())\n",
    "print(data['EventName'].unique())\n"
   ]
  },
  {
   "cell_type": "markdown",
   "metadata": {},
   "source": [
    "Hay 5 eventos dentro de los datos, dentro de los cuales estan 'MainScreenAppear', 'PaymentScreenSuccessful' 'CartScreenAppear', 'OffersScreenAppear', 'Tutorial'."
   ]
  },
  {
   "cell_type": "markdown",
   "metadata": {},
   "source": [
    "### ¿Cuántos usuarios hay en los registros?"
   ]
  },
  {
   "cell_type": "code",
   "execution_count": 7,
   "metadata": {},
   "outputs": [
    {
     "data": {
      "text/plain": [
       "7551"
      ]
     },
     "execution_count": 7,
     "metadata": {},
     "output_type": "execute_result"
    }
   ],
   "source": [
    "users= data['DeviceIDHash'].nunique()\n",
    "users"
   ]
  },
  {
   "cell_type": "markdown",
   "metadata": {},
   "source": [
    "El conjunto de datos incluye información de 7.551 usuarios únicos que interactuaron con la aplicación durante el periodo analizado. Esta cifra representa la base total de usuarios sobre la cual se calcularán las métricas de comportamiento y conversión."
   ]
  },
  {
   "cell_type": "markdown",
   "metadata": {},
   "source": [
    "### ¿Cuál es el promedio de eventos por usuario?"
   ]
  },
  {
   "cell_type": "code",
   "execution_count": 8,
   "metadata": {},
   "outputs": [
    {
     "data": {
      "text/plain": [
       "32.33"
      ]
     },
     "execution_count": 8,
     "metadata": {},
     "output_type": "execute_result"
    }
   ],
   "source": [
    "mean_users= data.groupby(['DeviceIDHash'])['EventName'].count().mean()\n",
    "mean_users.round(3)"
   ]
  },
  {
   "cell_type": "markdown",
   "metadata": {},
   "source": [
    "El promedio de eventos registrados por usuario es de 32,33. Esto indica que, en promedio, cada usuario realizó más de treinta acciones dentro de la aplicación durante el periodo analizado, lo que sugiere un nivel de interacción relativamente alto con la plataforma."
   ]
  },
  {
   "cell_type": "markdown",
   "metadata": {},
   "source": [
    "### ¿Qué periodo de tiempo cubren los datos?"
   ]
  },
  {
   "cell_type": "code",
   "execution_count": 9,
   "metadata": {},
   "outputs": [
    {
     "name": "stdout",
     "output_type": "stream",
     "text": [
      "2019-07-25 04:43:36\n",
      "2019-08-07 21:15:17\n",
      "13 days 16:31:41\n"
     ]
    }
   ],
   "source": [
    "print(data['EventTimestamp'].min())\n",
    "print(data['EventTimestamp'].max())\n",
    "print(data['EventTimestamp'].max()-data['EventTimestamp'].min())"
   ]
  },
  {
   "cell_type": "code",
   "execution_count": 10,
   "metadata": {},
   "outputs": [
    {
     "data": {
      "image/png": "[encoded data removed]",
      "text/plain": [
       "<Figure size 1200x600 with 1 Axes>"
      ]
     },
     "metadata": {},
     "output_type": "display_data"
    }
   ],
   "source": [
    "plt.figure(figsize=(12,6))\n",
    "plt.hist(data['EventTimestamp'],bins=100)\n",
    "plt.title('Histograma de Eventos')\n",
    "plt.xlabel('fecha')\n",
    "plt.ylabel('Frecuencia de eventos')\n",
    "plt.grid(True)\n",
    "plt.tight_layout()\n",
    "plt.show()"
   ]
  },
  {
   "cell_type": "code",
   "execution_count": 11,
   "metadata": {},
   "outputs": [
    {
     "data": {
      "text/html": [
       "<div>\n",
       "<style scoped>\n",
       "    .dataframe tbody tr th:only-of-type {\n",
       "        vertical-align: middle;\n",
       "    }\n",
       "\n",
       "    .dataframe tbody tr th {\n",
       "        vertical-align: top;\n",
       "    }\n",
       "\n",
       "    .dataframe thead th {\n",
       "        text-align: right;\n",
       "    }\n",
       "</style>\n",
       "<table border=\"1\" class=\"dataframe\">\n",
       "  <thead>\n",
       "    <tr style=\"text-align: right;\">\n",
       "      <th></th>\n",
       "      <th>EventName</th>\n",
       "      <th>DeviceIDHash</th>\n",
       "      <th>EventTimestamp</th>\n",
       "      <th>ExpId</th>\n",
       "      <th>date</th>\n",
       "      <th>hour</th>\n",
       "    </tr>\n",
       "  </thead>\n",
       "  <tbody>\n",
       "    <tr>\n",
       "      <th>797</th>\n",
       "      <td>MainScreenAppear</td>\n",
       "      <td>3670880358399219515</td>\n",
       "      <td>2019-07-31 01:11:46</td>\n",
       "      <td>247</td>\n",
       "      <td>2019-07-31</td>\n",
       "      <td>01:11:46</td>\n",
       "    </tr>\n",
       "    <tr>\n",
       "      <th>798</th>\n",
       "      <td>OffersScreenAppear</td>\n",
       "      <td>3799109751993694887</td>\n",
       "      <td>2019-07-31 01:21:04</td>\n",
       "      <td>248</td>\n",
       "      <td>2019-07-31</td>\n",
       "      <td>01:21:04</td>\n",
       "    </tr>\n",
       "    <tr>\n",
       "      <th>799</th>\n",
       "      <td>Tutorial</td>\n",
       "      <td>1126021718529336913</td>\n",
       "      <td>2019-07-31 01:32:11</td>\n",
       "      <td>247</td>\n",
       "      <td>2019-07-31</td>\n",
       "      <td>01:32:11</td>\n",
       "    </tr>\n",
       "    <tr>\n",
       "      <th>800</th>\n",
       "      <td>MainScreenAppear</td>\n",
       "      <td>4293428370257583636</td>\n",
       "      <td>2019-07-31 02:19:18</td>\n",
       "      <td>248</td>\n",
       "      <td>2019-07-31</td>\n",
       "      <td>02:19:18</td>\n",
       "    </tr>\n",
       "    <tr>\n",
       "      <th>801</th>\n",
       "      <td>MainScreenAppear</td>\n",
       "      <td>4567464647598975872</td>\n",
       "      <td>2019-07-31 02:33:30</td>\n",
       "      <td>247</td>\n",
       "      <td>2019-07-31</td>\n",
       "      <td>02:33:30</td>\n",
       "    </tr>\n",
       "    <tr>\n",
       "      <th>...</th>\n",
       "      <td>...</td>\n",
       "      <td>...</td>\n",
       "      <td>...</td>\n",
       "      <td>...</td>\n",
       "      <td>...</td>\n",
       "      <td>...</td>\n",
       "    </tr>\n",
       "    <tr>\n",
       "      <th>244121</th>\n",
       "      <td>MainScreenAppear</td>\n",
       "      <td>4599628364049201812</td>\n",
       "      <td>2019-08-07 21:12:25</td>\n",
       "      <td>247</td>\n",
       "      <td>2019-08-07</td>\n",
       "      <td>21:12:25</td>\n",
       "    </tr>\n",
       "    <tr>\n",
       "      <th>244122</th>\n",
       "      <td>MainScreenAppear</td>\n",
       "      <td>5849806612437486590</td>\n",
       "      <td>2019-08-07 21:13:59</td>\n",
       "      <td>246</td>\n",
       "      <td>2019-08-07</td>\n",
       "      <td>21:13:59</td>\n",
       "    </tr>\n",
       "    <tr>\n",
       "      <th>244123</th>\n",
       "      <td>MainScreenAppear</td>\n",
       "      <td>5746969938801999050</td>\n",
       "      <td>2019-08-07 21:14:43</td>\n",
       "      <td>246</td>\n",
       "      <td>2019-08-07</td>\n",
       "      <td>21:14:43</td>\n",
       "    </tr>\n",
       "    <tr>\n",
       "      <th>244124</th>\n",
       "      <td>MainScreenAppear</td>\n",
       "      <td>5746969938801999050</td>\n",
       "      <td>2019-08-07 21:14:58</td>\n",
       "      <td>246</td>\n",
       "      <td>2019-08-07</td>\n",
       "      <td>21:14:58</td>\n",
       "    </tr>\n",
       "    <tr>\n",
       "      <th>244125</th>\n",
       "      <td>OffersScreenAppear</td>\n",
       "      <td>5746969938801999050</td>\n",
       "      <td>2019-08-07 21:15:17</td>\n",
       "      <td>246</td>\n",
       "      <td>2019-08-07</td>\n",
       "      <td>21:15:17</td>\n",
       "    </tr>\n",
       "  </tbody>\n",
       "</table>\n",
       "<p>243329 rows × 6 columns</p>\n",
       "</div>"
      ],
      "text/plain": [
       "                 EventName         DeviceIDHash      EventTimestamp  ExpId  \\\n",
       "797       MainScreenAppear  3670880358399219515 2019-07-31 01:11:46    247   \n",
       "798     OffersScreenAppear  3799109751993694887 2019-07-31 01:21:04    248   \n",
       "799               Tutorial  1126021718529336913 2019-07-31 01:32:11    247   \n",
       "800       MainScreenAppear  4293428370257583636 2019-07-31 02:19:18    248   \n",
       "801       MainScreenAppear  4567464647598975872 2019-07-31 02:33:30    247   \n",
       "...                    ...                  ...                 ...    ...   \n",
       "244121    MainScreenAppear  4599628364049201812 2019-08-07 21:12:25    247   \n",
       "244122    MainScreenAppear  5849806612437486590 2019-08-07 21:13:59    246   \n",
       "244123    MainScreenAppear  5746969938801999050 2019-08-07 21:14:43    246   \n",
       "244124    MainScreenAppear  5746969938801999050 2019-08-07 21:14:58    246   \n",
       "244125  OffersScreenAppear  5746969938801999050 2019-08-07 21:15:17    246   \n",
       "\n",
       "             date      hour  \n",
       "797    2019-07-31  01:11:46  \n",
       "798    2019-07-31  01:21:04  \n",
       "799    2019-07-31  01:32:11  \n",
       "800    2019-07-31  02:19:18  \n",
       "801    2019-07-31  02:33:30  \n",
       "...           ...       ...  \n",
       "244121 2019-08-07  21:12:25  \n",
       "244122 2019-08-07  21:13:59  \n",
       "244123 2019-08-07  21:14:43  \n",
       "244124 2019-08-07  21:14:58  \n",
       "244125 2019-08-07  21:15:17  \n",
       "\n",
       "[243329 rows x 6 columns]"
      ]
     },
     "execution_count": 11,
     "metadata": {},
     "output_type": "execute_result"
    }
   ],
   "source": [
    "data_no=data[data['date'] < '2019-07-31']\n",
    "data=data.drop(data_no.index)\n",
    "\n",
    "data"
   ]
  },
  {
   "cell_type": "code",
   "execution_count": 12,
   "metadata": {},
   "outputs": [
    {
     "data": {
      "image/png": "[encoded data removed]",
      "text/plain": [
       "<Figure size 1200x600 with 1 Axes>"
      ]
     },
     "metadata": {},
     "output_type": "display_data"
    }
   ],
   "source": [
    "plt.figure(figsize=(12,6))\n",
    "plt.hist(data['EventTimestamp'],bins=100)\n",
    "plt.title('Histograma de Eventos')\n",
    "plt.xlabel('fecha')\n",
    "plt.ylabel('Frecuencia de eventos')\n",
    "plt.grid(True)\n",
    "plt.tight_layout()\n",
    "plt.show()"
   ]
  },
  {
   "cell_type": "markdown",
   "metadata": {},
   "source": [
    "Los datos abarcan desde el 25 de julio de 2019 a las 04:43 hasta el 7 de agosto de 2019 a las 21:15, lo que corresponde a un periodo total de 13 días, 16 horas y 32 minutos. Este rango temporal servirá como base para el análisis del comportamiento de los usuarios en la aplicación.\n",
    "\n",
    "Sin embargo, se identificó que la frecuencia de eventos antes del 31 de julio es baja, lo que sugiere que esos registros podrían corresponder a pruebas internas o a una fase incompleta de recolección de datos. Por lo tanto, se sugiere excluir los datos anteriores al 31 de julio de 2019 para asegurar la calidad y representatividad del análisis."
   ]
  },
  {
   "cell_type": "markdown",
   "metadata": {},
   "source": [
    "### ¿Perdiste muchos eventos y usuarios al excluir los datos más antiguos?"
   ]
  },
  {
   "cell_type": "code",
   "execution_count": 13,
   "metadata": {},
   "outputs": [
    {
     "data": {
      "text/plain": [
       "797"
      ]
     },
     "execution_count": 13,
     "metadata": {},
     "output_type": "execute_result"
    }
   ],
   "source": [
    "len(data_no)"
   ]
  },
  {
   "cell_type": "markdown",
   "metadata": {},
   "source": [
    "Se eliminaron 797 registros, lo que representa aproximadamente el 0,33 % del total original de 244.126 eventos. Esta proporción es mínima y no afecta la validez del análisis posterior."
   ]
  },
  {
   "cell_type": "markdown",
   "metadata": {},
   "source": [
    "###  Usuarios de los tres grupos experimentales"
   ]
  },
  {
   "cell_type": "code",
   "execution_count": 14,
   "metadata": {},
   "outputs": [
    {
     "data": {
      "text/plain": [
       "ExpId\n",
       "246    2485\n",
       "247    2517\n",
       "248    2540\n",
       "Name: DeviceIDHash, dtype: int64"
      ]
     },
     "execution_count": 14,
     "metadata": {},
     "output_type": "execute_result"
    }
   ],
   "source": [
    "n_g=data.groupby('ExpId')['DeviceIDHash'].nunique()\n",
    "n_g"
   ]
  },
  {
   "cell_type": "code",
   "execution_count": 15,
   "metadata": {},
   "outputs": [],
   "source": [
    "g246= data[data['ExpId']==246]\n",
    "g247= data[data['ExpId']==247]\n",
    "g248= data[data['ExpId']==248]"
   ]
  },
  {
   "cell_type": "code",
   "execution_count": 16,
   "metadata": {},
   "outputs": [
    {
     "data": {
      "text/plain": [
       "0"
      ]
     },
     "execution_count": 16,
     "metadata": {},
     "output_type": "execute_result"
    }
   ],
   "source": [
    "upg = data.groupby('DeviceIDHash')['ExpId'].nunique()\n",
    "u_rep = upg[upg > 1]\n",
    "u_rep.shape[0]"
   ]
  },
  {
   "cell_type": "markdown",
   "metadata": {},
   "source": [
    "Se confirmó la presencia de registros en los tres grupos experimentales definidos en el test A/A/B:\n",
    "\n",
    "- Grupo 246 (control A)\n",
    "- Grupo 247 (control A)\n",
    "- Grupo 248 (grupo de prueba B)\n",
    "\n",
    "La cantidad de usuarios en cada grupo varía mínimamente, lo que indica una asignación equilibrada. Además, se verificó que no existen usuarios presentes en más de un grupo experimental, lo que garantiza la validez del diseño del experimento y evita sesgos por exposición cruzada."
   ]
  },
  {
   "cell_type": "markdown",
   "metadata": {},
   "source": [
    "## Estudiar el embudo de eventos"
   ]
  },
  {
   "cell_type": "markdown",
   "metadata": {},
   "source": [
    "### Eventos y sus frecuencias"
   ]
  },
  {
   "cell_type": "code",
   "execution_count": 17,
   "metadata": {},
   "outputs": [
    {
     "data": {
      "text/plain": [
       "MainScreenAppear           118681\n",
       "OffersScreenAppear          46724\n",
       "CartScreenAppear            42623\n",
       "PaymentScreenSuccessful     34253\n",
       "Tutorial                     1048\n",
       "Name: EventName, dtype: int64"
      ]
     },
     "execution_count": 17,
     "metadata": {},
     "output_type": "execute_result"
    }
   ],
   "source": [
    "# Observa qué eventos hay en los registros y su frecuencia de suceso. Ordénalos por frecuencia.\n",
    "data['EventName'].value_counts()"
   ]
  },
  {
   "cell_type": "markdown",
   "metadata": {},
   "source": [
    "### Cantidad de usuarios por eventos"
   ]
  },
  {
   "cell_type": "code",
   "execution_count": 18,
   "metadata": {},
   "outputs": [],
   "source": [
    "ca = data.groupby(['EventName'])['DeviceIDHash'].nunique().reset_index()\n",
    "ca.columns=('event','n_users')\n",
    "ca= ca.sort_values(by='n_users',ascending=False)"
   ]
  },
  {
   "cell_type": "code",
   "execution_count": 19,
   "metadata": {},
   "outputs": [
    {
     "data": {
      "text/html": [
       "<div>\n",
       "<style scoped>\n",
       "    .dataframe tbody tr th:only-of-type {\n",
       "        vertical-align: middle;\n",
       "    }\n",
       "\n",
       "    .dataframe tbody tr th {\n",
       "        vertical-align: top;\n",
       "    }\n",
       "\n",
       "    .dataframe thead th {\n",
       "        text-align: right;\n",
       "    }\n",
       "</style>\n",
       "<table border=\"1\" class=\"dataframe\">\n",
       "  <thead>\n",
       "    <tr style=\"text-align: right;\">\n",
       "      <th></th>\n",
       "      <th>event</th>\n",
       "      <th>n_users</th>\n",
       "      <th>proporcion</th>\n",
       "    </tr>\n",
       "  </thead>\n",
       "  <tbody>\n",
       "    <tr>\n",
       "      <th>1</th>\n",
       "      <td>MainScreenAppear</td>\n",
       "      <td>7429</td>\n",
       "      <td>98.50</td>\n",
       "    </tr>\n",
       "    <tr>\n",
       "      <th>2</th>\n",
       "      <td>OffersScreenAppear</td>\n",
       "      <td>4606</td>\n",
       "      <td>61.07</td>\n",
       "    </tr>\n",
       "    <tr>\n",
       "      <th>0</th>\n",
       "      <td>CartScreenAppear</td>\n",
       "      <td>3742</td>\n",
       "      <td>49.62</td>\n",
       "    </tr>\n",
       "    <tr>\n",
       "      <th>3</th>\n",
       "      <td>PaymentScreenSuccessful</td>\n",
       "      <td>3542</td>\n",
       "      <td>46.96</td>\n",
       "    </tr>\n",
       "    <tr>\n",
       "      <th>4</th>\n",
       "      <td>Tutorial</td>\n",
       "      <td>845</td>\n",
       "      <td>11.20</td>\n",
       "    </tr>\n",
       "  </tbody>\n",
       "</table>\n",
       "</div>"
      ],
      "text/plain": [
       "                     event  n_users  proporcion\n",
       "1         MainScreenAppear     7429       98.50\n",
       "2       OffersScreenAppear     4606       61.07\n",
       "0         CartScreenAppear     3742       49.62\n",
       "3  PaymentScreenSuccessful     3542       46.96\n",
       "4                 Tutorial      845       11.20"
      ]
     },
     "execution_count": 19,
     "metadata": {},
     "output_type": "execute_result"
    }
   ],
   "source": [
    "total_users=data['DeviceIDHash'].nunique()\n",
    "ca['proporcion'] = ((ca['n_users']/total_users)*100).round(2)\n",
    "ca"
   ]
  },
  {
   "cell_type": "markdown",
   "metadata": {},
   "source": [
    "### Orden de los Eventos "
   ]
  },
  {
   "cell_type": "code",
   "execution_count": 20,
   "metadata": {},
   "outputs": [
    {
     "name": "stdout",
     "output_type": "stream",
     "text": [
      "Usuarios que vieron el Tutorial 845\n",
      "Usuarios que vieron en primer lugar el Tutorial 789\n"
     ]
    }
   ],
   "source": [
    "# Identificar la frecuencia con que Tutorial se encuentra en primer lugar\n",
    "\n",
    "t=data[data['EventName']=='Tutorial']\n",
    "t1=t['DeviceIDHash'].unique()\n",
    "print('Usuarios que vieron el Tutorial',len(t1))\n",
    "q = data[data['DeviceIDHash'].isin(t1)]\n",
    "q= q.sort_values(by=['DeviceIDHash','EventTimestamp'])\n",
    "primer_evento = q.groupby('DeviceIDHash').first().reset_index()\n",
    "print('Usuarios que vieron en primer lugar el Tutorial',primer_evento[primer_evento['EventName']=='Tutorial'].shape[0])\n"
   ]
  },
  {
   "cell_type": "markdown",
   "metadata": {},
   "source": [
    "**¿En qué orden crees que ocurrieron las acciones?**\n",
    "\n",
    "Se identificó que las acciones más frecuentes siguen un patrón lógico en el recorrido del usuario dentro de la aplicación, ocurriendo en el siguiente orden:\n",
    "1. Tutorial\n",
    "2. MainScreenAppear\n",
    "3. OffersScreenAppear\n",
    "4. CartScreenAppear\n",
    "5. PaymentScreenSuccessful\n",
    "\n",
    "\n",
    "Este orden sugiere un flujo consistente desde la pantalla principal hasta la confirmación de pago, lo cual es coherente con un embudo de conversión típico.\n",
    "\n",
    "De los 845 usuarios que accedieron al evento `Tutorial`, 789 lo hicieron como su primer evento, lo que representa aproximadamente el 93,37 %. Esto indica que, en la mayoría de los casos, el tutorial aparece al inicio del recorrido del usuario, aunque existe una minoría (6,63 %) que lo visualizó en etapas posteriores.\n",
    "\n",
    "\n",
    "\n"
   ]
  },
  {
   "cell_type": "markdown",
   "metadata": {},
   "source": [
    "###  Embudo de eventos"
   ]
  },
  {
   "cell_type": "code",
   "execution_count": 21,
   "metadata": {},
   "outputs": [],
   "source": [
    "serie=ca['event']\n",
    "eventos= serie.tolist()\n",
    "eventos.remove('Tutorial')\n",
    "eventos\n",
    "ca=ca.drop(index=[4])"
   ]
  },
  {
   "cell_type": "code",
   "execution_count": 22,
   "metadata": {},
   "outputs": [
    {
     "data": {
      "text/html": [
       "<div>\n",
       "<style scoped>\n",
       "    .dataframe tbody tr th:only-of-type {\n",
       "        vertical-align: middle;\n",
       "    }\n",
       "\n",
       "    .dataframe tbody tr th {\n",
       "        vertical-align: top;\n",
       "    }\n",
       "\n",
       "    .dataframe thead th {\n",
       "        text-align: right;\n",
       "    }\n",
       "</style>\n",
       "<table border=\"1\" class=\"dataframe\">\n",
       "  <thead>\n",
       "    <tr style=\"text-align: right;\">\n",
       "      <th></th>\n",
       "      <th>event</th>\n",
       "      <th>n_users</th>\n",
       "      <th>proporcion</th>\n",
       "      <th>n_ret</th>\n",
       "      <th>%_ret</th>\n",
       "      <th>%_ret_cum</th>\n",
       "    </tr>\n",
       "  </thead>\n",
       "  <tbody>\n",
       "    <tr>\n",
       "      <th>1</th>\n",
       "      <td>MainScreenAppear</td>\n",
       "      <td>7429</td>\n",
       "      <td>98.50</td>\n",
       "      <td>NaN</td>\n",
       "      <td>100.00</td>\n",
       "      <td>100.00</td>\n",
       "    </tr>\n",
       "    <tr>\n",
       "      <th>2</th>\n",
       "      <td>OffersScreenAppear</td>\n",
       "      <td>4606</td>\n",
       "      <td>61.07</td>\n",
       "      <td>2823.0</td>\n",
       "      <td>62.00</td>\n",
       "      <td>62.00</td>\n",
       "    </tr>\n",
       "    <tr>\n",
       "      <th>0</th>\n",
       "      <td>CartScreenAppear</td>\n",
       "      <td>3742</td>\n",
       "      <td>49.62</td>\n",
       "      <td>864.0</td>\n",
       "      <td>81.24</td>\n",
       "      <td>50.37</td>\n",
       "    </tr>\n",
       "    <tr>\n",
       "      <th>3</th>\n",
       "      <td>PaymentScreenSuccessful</td>\n",
       "      <td>3542</td>\n",
       "      <td>46.96</td>\n",
       "      <td>200.0</td>\n",
       "      <td>94.66</td>\n",
       "      <td>47.68</td>\n",
       "    </tr>\n",
       "  </tbody>\n",
       "</table>\n",
       "</div>"
      ],
      "text/plain": [
       "                     event  n_users  proporcion   n_ret   %_ret  %_ret_cum\n",
       "1         MainScreenAppear     7429       98.50     NaN  100.00     100.00\n",
       "2       OffersScreenAppear     4606       61.07  2823.0   62.00      62.00\n",
       "0         CartScreenAppear     3742       49.62   864.0   81.24      50.37\n",
       "3  PaymentScreenSuccessful     3542       46.96   200.0   94.66      47.68"
      ]
     },
     "execution_count": 22,
     "metadata": {},
     "output_type": "execute_result"
    }
   ],
   "source": [
    "ca['n_ret'] = (ca['n_users'].shift(1) - ca['n_users'] ).round(2)\n",
    "ca['%_ret'] = (ca['n_users'] / ca['n_users'].shift(1) * 100).round(2)\n",
    "ca.loc[ca.index[0], '%_ret'] = 100.0\n",
    "ca['%_ret_cum'] = (ca['n_users'] / ca['n_users'].iloc[0] * 100).round(2)\n",
    "ca"
   ]
  },
  {
   "cell_type": "markdown",
   "metadata": {},
   "source": [
    "### ¿En qué etapa pierdes más usuarios?\n",
    "\n",
    "Se identificó que la mayor pérdida de usuarios ocurre en la primera etapa del embudo, entre los eventos MainScreenAppear y OffersScreenAppear. En esta transición, se observa una reducción de 2.823 usuarios, lo que representa una pérdida del 38 % respecto a quienes iniciaron en el primer evento.\n",
    "\n",
    "Este comportamiento sugiere que una parte significativa de los usuarios no encuentra un incentivo claro para continuar explorando la aplicación tras el ingreso inicial. Podría estar relacionado con la usabilidad de la pantalla principal, tiempos de carga, falta de ofertas atractivas visibles, o simplemente desinterés.\n",
    "\n",
    "### ¿Qué porcentaje de usuarios hace todo el viaje desde su primer evento hasta el pago?\n",
    "\n",
    "Del total de usuarios que iniciaron su recorrido en la aplicación con el evento MainScreenAppear, solo el 47,68 % llegó a completar una compra exitosa PaymentScreenSuccessful. Esto indica que menos de la mitad de los usuarios logran convertir, lo cual representa una oportunidad importante de optimización en las etapas intermedias del embudo"
   ]
  },
  {
   "cell_type": "markdown",
   "metadata": {},
   "source": [
    "## Estudiar los resultados del experimento"
   ]
  },
  {
   "cell_type": "markdown",
   "metadata": {},
   "source": [
    "### ¿Cuántos usuarios hay en cada grupo?"
   ]
  },
  {
   "cell_type": "code",
   "execution_count": 23,
   "metadata": {},
   "outputs": [
    {
     "name": "stdout",
     "output_type": "stream",
     "text": [
      "Registros en el grupo 246: 80045\n",
      "Registros en el grupo 247: 77811\n",
      "Registros en el grupo 248: 85473\n"
     ]
    }
   ],
   "source": [
    "print('Registros en el grupo 246:',len(g246))\n",
    "print('Registros en el grupo 247:',len(g247))\n",
    "print('Registros en el grupo 248:',len(g248))"
   ]
  },
  {
   "cell_type": "code",
   "execution_count": 24,
   "metadata": {},
   "outputs": [
    {
     "data": {
      "text/plain": [
       "ExpId\n",
       "246    2485\n",
       "247    2517\n",
       "248    2540\n",
       "Name: DeviceIDHash, dtype: int64"
      ]
     },
     "execution_count": 24,
     "metadata": {},
     "output_type": "execute_result"
    }
   ],
   "source": [
    "# Numero de Usuarios unicos en cada grupo\n",
    "n_g"
   ]
  },
  {
   "cell_type": "markdown",
   "metadata": {},
   "source": [
    "La cantidad de usuarios únicos es bastante equilibrada entre los tres grupos, con una diferencia mínima que no representa un riesgo para la validez del experimento. Esto sugiere que la asignación aleatoria se realizó correctamente."
   ]
  },
  {
   "cell_type": "markdown",
   "metadata": {},
   "source": [
    "### Test A/A"
   ]
  },
  {
   "cell_type": "code",
   "execution_count": 25,
   "metadata": {},
   "outputs": [
    {
     "data": {
      "text/plain": [
       "DeviceIDHash\n",
       "6909561520679493         5\n",
       "7702139951469979       137\n",
       "28534696657485531       29\n",
       "28755862496905658        8\n",
       "29094035245869447       24\n",
       "                      ... \n",
       "9187094690649224379     10\n",
       "9187990861085277398    231\n",
       "9196211109317457061      3\n",
       "9202927726357731300     10\n",
       "9206002508877262744     81\n",
       "Name: EventName, Length: 2517, dtype: int64"
      ]
     },
     "execution_count": 25,
     "metadata": {},
     "output_type": "execute_result"
    }
   ],
   "source": [
    "events_246 = g246.groupby('DeviceIDHash')['EventName'].count()\n",
    "events_247 = g247.groupby('DeviceIDHash')['EventName'].count()\n",
    "events_247"
   ]
  },
  {
   "cell_type": "code",
   "execution_count": 26,
   "metadata": {},
   "outputs": [
    {
     "name": "stdout",
     "output_type": "stream",
     "text": [
      "p-valor: 0.8579\n"
     ]
    }
   ],
   "source": [
    "stat, p = mannwhitneyu(events_246, events_247, alternative='two-sided')\n",
    "print('p-valor:', \"{0:.4f}\".format(p))"
   ]
  },
  {
   "cell_type": "markdown",
   "metadata": {},
   "source": [
    "Un p-valor de 0.8579 en la prueba U de Mann-Whitney significa que no hay evidencia estadísticamente significativa de diferencia entre los grupos 246 y 247 respecto al número de veces que los usuarios realizaron ese evento específico.\n",
    "\n",
    "El comportamiento de los usuarios en los grupos de control no presenta diferencias relevantes en la frecuencia del evento analizado. Esto confirma que la asignación entre grupos fue balanceada y que el experimento A/A se ejecutó correctamente para ese evento."
   ]
  },
  {
   "cell_type": "markdown",
   "metadata": {},
   "source": [
    "### Evento más popular"
   ]
  },
  {
   "cell_type": "code",
   "execution_count": 27,
   "metadata": {},
   "outputs": [
    {
     "data": {
      "text/plain": [
       "'MainScreenAppear'"
      ]
     },
     "execution_count": 27,
     "metadata": {},
     "output_type": "execute_result"
    }
   ],
   "source": [
    "ep = data['EventName'].value_counts().idxmax()\n",
    "ep"
   ]
  },
  {
   "cell_type": "markdown",
   "metadata": {},
   "source": [
    "El evento más popular fue `MainScreenAppear`"
   ]
  },
  {
   "cell_type": "code",
   "execution_count": 28,
   "metadata": {},
   "outputs": [
    {
     "name": "stdout",
     "output_type": "stream",
     "text": [
      "5\n",
      "5\n"
     ]
    }
   ],
   "source": [
    "n_246 = g246['EventName'].nunique()\n",
    "n_247 = g247['EventName'].nunique()\n",
    "print(n_246)\n",
    "print(n_247)"
   ]
  },
  {
   "cell_type": "code",
   "execution_count": 29,
   "metadata": {},
   "outputs": [
    {
     "name": "stdout",
     "output_type": "stream",
     "text": [
      "2452\n",
      "2479\n"
     ]
    }
   ],
   "source": [
    "e_246 = data[(data['ExpId'] == 246) & (data['EventName'] == ep)]['DeviceIDHash'].nunique()\n",
    "e_247 = data[(data['ExpId'] == 247) & (data['EventName'] == ep)]['DeviceIDHash'].nunique()\n",
    "print(e_246)\n",
    "print(e_247)"
   ]
  },
  {
   "cell_type": "code",
   "execution_count": 30,
   "metadata": {},
   "outputs": [],
   "source": [
    "p_246 = e_246 / n_246\n",
    "p_247 = e_247 / n_247\n"
   ]
  },
  {
   "cell_type": "code",
   "execution_count": 31,
   "metadata": {},
   "outputs": [
    {
     "name": "stdout",
     "output_type": "stream",
     "text": [
      "Proporción en grupo 246: 490.4\n",
      "Proporción en grupo 247: 495.8\n"
     ]
    }
   ],
   "source": [
    "print('Proporción en grupo 246:',p_246)\n",
    "print('Proporción en grupo 247:',p_247)"
   ]
  },
  {
   "cell_type": "code",
   "execution_count": 32,
   "metadata": {},
   "outputs": [],
   "source": [
    "def comparar_eventos_mannwhitney(g1, g2, event_col='EventName', user_col='DeviceIDHash', alpha=0.05):\n",
    "    resultados = []\n",
    "\n",
    "    eventos = set(g1[event_col].unique()).intersection(g2[event_col].unique())\n",
    "    \n",
    "    for evento in eventos:\n",
    "        \n",
    "        u1 = g1[g1[event_col] == evento].groupby(user_col).size()\n",
    "        u2 = g2[g2[event_col] == evento].groupby(user_col).size()\n",
    "        \n",
    "        if len(u1) > 0 and len(u2) > 0:\n",
    "            stat, p = mannwhitneyu(u1, u2, alternative='two-sided')\n",
    "            resultados.append({\n",
    "                'event': evento,\n",
    "                'users_g1': len(u1),\n",
    "                'users_g2': len(u2),\n",
    "                'mean_g1': u1.mean(),\n",
    "                'mean_g2': u2.mean(),\n",
    "                'p_value': round(p, 4),\n",
    "                'significativo': p < alpha\n",
    "            })\n",
    "    \n",
    "    return pd.DataFrame(resultados).sort_values('p_value')\n"
   ]
  },
  {
   "cell_type": "markdown",
   "metadata": {},
   "source": [
    "#### (g246, g246)"
   ]
  },
  {
   "cell_type": "code",
   "execution_count": 33,
   "metadata": {},
   "outputs": [
    {
     "data": {
      "text/html": [
       "<div>\n",
       "<style scoped>\n",
       "    .dataframe tbody tr th:only-of-type {\n",
       "        vertical-align: middle;\n",
       "    }\n",
       "\n",
       "    .dataframe tbody tr th {\n",
       "        vertical-align: top;\n",
       "    }\n",
       "\n",
       "    .dataframe thead th {\n",
       "        text-align: right;\n",
       "    }\n",
       "</style>\n",
       "<table border=\"1\" class=\"dataframe\">\n",
       "  <thead>\n",
       "    <tr style=\"text-align: right;\">\n",
       "      <th></th>\n",
       "      <th>event</th>\n",
       "      <th>users_g1</th>\n",
       "      <th>users_g2</th>\n",
       "      <th>mean_g1</th>\n",
       "      <th>mean_g2</th>\n",
       "      <th>p_value</th>\n",
       "      <th>significativo</th>\n",
       "    </tr>\n",
       "  </thead>\n",
       "  <tbody>\n",
       "    <tr>\n",
       "      <th>0</th>\n",
       "      <td>Tutorial</td>\n",
       "      <td>278</td>\n",
       "      <td>285</td>\n",
       "      <td>1.161871</td>\n",
       "      <td>1.217544</td>\n",
       "      <td>0.3758</td>\n",
       "      <td>False</td>\n",
       "    </tr>\n",
       "    <tr>\n",
       "      <th>1</th>\n",
       "      <td>PaymentScreenSuccessful</td>\n",
       "      <td>1200</td>\n",
       "      <td>1159</td>\n",
       "      <td>9.960833</td>\n",
       "      <td>8.697153</td>\n",
       "      <td>0.3945</td>\n",
       "      <td>False</td>\n",
       "    </tr>\n",
       "    <tr>\n",
       "      <th>4</th>\n",
       "      <td>CartScreenAppear</td>\n",
       "      <td>1267</td>\n",
       "      <td>1239</td>\n",
       "      <td>11.672455</td>\n",
       "      <td>10.117030</td>\n",
       "      <td>0.4704</td>\n",
       "      <td>False</td>\n",
       "    </tr>\n",
       "    <tr>\n",
       "      <th>2</th>\n",
       "      <td>MainScreenAppear</td>\n",
       "      <td>2452</td>\n",
       "      <td>2479</td>\n",
       "      <td>15.535073</td>\n",
       "      <td>15.954014</td>\n",
       "      <td>0.6055</td>\n",
       "      <td>False</td>\n",
       "    </tr>\n",
       "    <tr>\n",
       "      <th>3</th>\n",
       "      <td>OffersScreenAppear</td>\n",
       "      <td>1544</td>\n",
       "      <td>1526</td>\n",
       "      <td>9.642487</td>\n",
       "      <td>10.025557</td>\n",
       "      <td>0.7563</td>\n",
       "      <td>False</td>\n",
       "    </tr>\n",
       "  </tbody>\n",
       "</table>\n",
       "</div>"
      ],
      "text/plain": [
       "                     event  users_g1  users_g2    mean_g1    mean_g2  p_value  \\\n",
       "0                 Tutorial       278       285   1.161871   1.217544   0.3758   \n",
       "1  PaymentScreenSuccessful      1200      1159   9.960833   8.697153   0.3945   \n",
       "4         CartScreenAppear      1267      1239  11.672455  10.117030   0.4704   \n",
       "2         MainScreenAppear      2452      2479  15.535073  15.954014   0.6055   \n",
       "3       OffersScreenAppear      1544      1526   9.642487  10.025557   0.7563   \n",
       "\n",
       "   significativo  \n",
       "0          False  \n",
       "1          False  \n",
       "4          False  \n",
       "2          False  \n",
       "3          False  "
      ]
     },
     "execution_count": 33,
     "metadata": {},
     "output_type": "execute_result"
    }
   ],
   "source": [
    "comparar_eventos_mannwhitney(g246, g247)"
   ]
  },
  {
   "cell_type": "markdown",
   "metadata": {},
   "source": [
    "- Todos los valores p son mayores que 0.05, lo que indica que no hay diferencias estadísticamente significativas entre los grupos 246 y 247 para ninguno de los eventos analizados.\n",
    "\n",
    "- Las medias son similares entre ambos grupos, lo cual refuerza que los usuarios de los dos grupos se comportan de manera comparable.\n",
    "\n",
    "- El campo significativo es False para todos los eventos, lo que respalda que la diferencia entre los grupos podría deberse al azar."
   ]
  },
  {
   "cell_type": "markdown",
   "metadata": {},
   "source": [
    "### Test A/B"
   ]
  },
  {
   "cell_type": "markdown",
   "metadata": {},
   "source": [
    "#### (g246, g248)"
   ]
  },
  {
   "cell_type": "code",
   "execution_count": 34,
   "metadata": {},
   "outputs": [
    {
     "data": {
      "text/html": [
       "<div>\n",
       "<style scoped>\n",
       "    .dataframe tbody tr th:only-of-type {\n",
       "        vertical-align: middle;\n",
       "    }\n",
       "\n",
       "    .dataframe tbody tr th {\n",
       "        vertical-align: top;\n",
       "    }\n",
       "\n",
       "    .dataframe thead th {\n",
       "        text-align: right;\n",
       "    }\n",
       "</style>\n",
       "<table border=\"1\" class=\"dataframe\">\n",
       "  <thead>\n",
       "    <tr style=\"text-align: right;\">\n",
       "      <th></th>\n",
       "      <th>event</th>\n",
       "      <th>users_g1</th>\n",
       "      <th>users_g2</th>\n",
       "      <th>mean_g1</th>\n",
       "      <th>mean_g2</th>\n",
       "      <th>p_value</th>\n",
       "      <th>significativo</th>\n",
       "    </tr>\n",
       "  </thead>\n",
       "  <tbody>\n",
       "    <tr>\n",
       "      <th>2</th>\n",
       "      <td>MainScreenAppear</td>\n",
       "      <td>2452</td>\n",
       "      <td>2498</td>\n",
       "      <td>15.535073</td>\n",
       "      <td>16.428743</td>\n",
       "      <td>0.1034</td>\n",
       "      <td>False</td>\n",
       "    </tr>\n",
       "    <tr>\n",
       "      <th>4</th>\n",
       "      <td>CartScreenAppear</td>\n",
       "      <td>1267</td>\n",
       "      <td>1236</td>\n",
       "      <td>11.672455</td>\n",
       "      <td>12.377832</td>\n",
       "      <td>0.1138</td>\n",
       "      <td>False</td>\n",
       "    </tr>\n",
       "    <tr>\n",
       "      <th>0</th>\n",
       "      <td>Tutorial</td>\n",
       "      <td>278</td>\n",
       "      <td>282</td>\n",
       "      <td>1.161871</td>\n",
       "      <td>1.340426</td>\n",
       "      <td>0.1474</td>\n",
       "      <td>False</td>\n",
       "    </tr>\n",
       "    <tr>\n",
       "      <th>1</th>\n",
       "      <td>PaymentScreenSuccessful</td>\n",
       "      <td>1200</td>\n",
       "      <td>1183</td>\n",
       "      <td>9.960833</td>\n",
       "      <td>10.329670</td>\n",
       "      <td>0.6234</td>\n",
       "      <td>False</td>\n",
       "    </tr>\n",
       "    <tr>\n",
       "      <th>3</th>\n",
       "      <td>OffersScreenAppear</td>\n",
       "      <td>1544</td>\n",
       "      <td>1536</td>\n",
       "      <td>9.642487</td>\n",
       "      <td>10.766276</td>\n",
       "      <td>0.7034</td>\n",
       "      <td>False</td>\n",
       "    </tr>\n",
       "  </tbody>\n",
       "</table>\n",
       "</div>"
      ],
      "text/plain": [
       "                     event  users_g1  users_g2    mean_g1    mean_g2  p_value  \\\n",
       "2         MainScreenAppear      2452      2498  15.535073  16.428743   0.1034   \n",
       "4         CartScreenAppear      1267      1236  11.672455  12.377832   0.1138   \n",
       "0                 Tutorial       278       282   1.161871   1.340426   0.1474   \n",
       "1  PaymentScreenSuccessful      1200      1183   9.960833  10.329670   0.6234   \n",
       "3       OffersScreenAppear      1544      1536   9.642487  10.766276   0.7034   \n",
       "\n",
       "   significativo  \n",
       "2          False  \n",
       "4          False  \n",
       "0          False  \n",
       "1          False  \n",
       "3          False  "
      ]
     },
     "execution_count": 34,
     "metadata": {},
     "output_type": "execute_result"
    }
   ],
   "source": [
    "comparar_eventos_mannwhitney(g246, g248)"
   ]
  },
  {
   "cell_type": "markdown",
   "metadata": {},
   "source": [
    "Grupo 246 / Grupo 248\n",
    "Ningún evento tiene diferencias estadísticamente significativas (p_value > 0.05 en todos los casos).\n",
    "- No hay evidencia de que el nuevo diseño haya cambiado el comportamiento comparado con este grupo."
   ]
  },
  {
   "cell_type": "markdown",
   "metadata": {},
   "source": [
    "#### (g247, g248)"
   ]
  },
  {
   "cell_type": "code",
   "execution_count": 35,
   "metadata": {},
   "outputs": [
    {
     "data": {
      "text/html": [
       "<div>\n",
       "<style scoped>\n",
       "    .dataframe tbody tr th:only-of-type {\n",
       "        vertical-align: middle;\n",
       "    }\n",
       "\n",
       "    .dataframe tbody tr th {\n",
       "        vertical-align: top;\n",
       "    }\n",
       "\n",
       "    .dataframe thead th {\n",
       "        text-align: right;\n",
       "    }\n",
       "</style>\n",
       "<table border=\"1\" class=\"dataframe\">\n",
       "  <thead>\n",
       "    <tr style=\"text-align: right;\">\n",
       "      <th></th>\n",
       "      <th>event</th>\n",
       "      <th>users_g1</th>\n",
       "      <th>users_g2</th>\n",
       "      <th>mean_g1</th>\n",
       "      <th>mean_g2</th>\n",
       "      <th>p_value</th>\n",
       "      <th>significativo</th>\n",
       "    </tr>\n",
       "  </thead>\n",
       "  <tbody>\n",
       "    <tr>\n",
       "      <th>4</th>\n",
       "      <td>CartScreenAppear</td>\n",
       "      <td>1239</td>\n",
       "      <td>1236</td>\n",
       "      <td>10.117030</td>\n",
       "      <td>12.377832</td>\n",
       "      <td>0.0193</td>\n",
       "      <td>True</td>\n",
       "    </tr>\n",
       "    <tr>\n",
       "      <th>1</th>\n",
       "      <td>PaymentScreenSuccessful</td>\n",
       "      <td>1159</td>\n",
       "      <td>1183</td>\n",
       "      <td>8.697153</td>\n",
       "      <td>10.329670</td>\n",
       "      <td>0.1697</td>\n",
       "      <td>False</td>\n",
       "    </tr>\n",
       "    <tr>\n",
       "      <th>2</th>\n",
       "      <td>MainScreenAppear</td>\n",
       "      <td>2479</td>\n",
       "      <td>2498</td>\n",
       "      <td>15.954014</td>\n",
       "      <td>16.428743</td>\n",
       "      <td>0.2739</td>\n",
       "      <td>False</td>\n",
       "    </tr>\n",
       "    <tr>\n",
       "      <th>0</th>\n",
       "      <td>Tutorial</td>\n",
       "      <td>285</td>\n",
       "      <td>282</td>\n",
       "      <td>1.217544</td>\n",
       "      <td>1.340426</td>\n",
       "      <td>0.5657</td>\n",
       "      <td>False</td>\n",
       "    </tr>\n",
       "    <tr>\n",
       "      <th>3</th>\n",
       "      <td>OffersScreenAppear</td>\n",
       "      <td>1526</td>\n",
       "      <td>1536</td>\n",
       "      <td>10.025557</td>\n",
       "      <td>10.766276</td>\n",
       "      <td>0.9510</td>\n",
       "      <td>False</td>\n",
       "    </tr>\n",
       "  </tbody>\n",
       "</table>\n",
       "</div>"
      ],
      "text/plain": [
       "                     event  users_g1  users_g2    mean_g1    mean_g2  p_value  \\\n",
       "4         CartScreenAppear      1239      1236  10.117030  12.377832   0.0193   \n",
       "1  PaymentScreenSuccessful      1159      1183   8.697153  10.329670   0.1697   \n",
       "2         MainScreenAppear      2479      2498  15.954014  16.428743   0.2739   \n",
       "0                 Tutorial       285       282   1.217544   1.340426   0.5657   \n",
       "3       OffersScreenAppear      1526      1536  10.025557  10.766276   0.9510   \n",
       "\n",
       "   significativo  \n",
       "4           True  \n",
       "1          False  \n",
       "2          False  \n",
       "0          False  \n",
       "3          False  "
      ]
     },
     "execution_count": 35,
     "metadata": {},
     "output_type": "execute_result"
    }
   ],
   "source": [
    "comparar_eventos_mannwhitney(g247, g248)"
   ]
  },
  {
   "cell_type": "markdown",
   "metadata": {},
   "source": [
    "Solo CartScreenAppear presenta una diferencia estadísticamente significativa (p = 0.0193). En este caso, los usuarios del grupo 248 usaron el carrito más veces en promedio (12.37 vs 10.11).\n",
    "- Hay una diferencia puntual en ese evento. Puede ser real o aleatoria.\n",
    "\n"
   ]
  },
  {
   "cell_type": "markdown",
   "metadata": {},
   "source": [
    "#### (g246yg247, g248)"
   ]
  },
  {
   "cell_type": "code",
   "execution_count": 36,
   "metadata": {},
   "outputs": [],
   "source": [
    "g246yg247 =pd.concat([g246,g247])"
   ]
  },
  {
   "cell_type": "code",
   "execution_count": 37,
   "metadata": {},
   "outputs": [
    {
     "data": {
      "text/html": [
       "<div>\n",
       "<style scoped>\n",
       "    .dataframe tbody tr th:only-of-type {\n",
       "        vertical-align: middle;\n",
       "    }\n",
       "\n",
       "    .dataframe tbody tr th {\n",
       "        vertical-align: top;\n",
       "    }\n",
       "\n",
       "    .dataframe thead th {\n",
       "        text-align: right;\n",
       "    }\n",
       "</style>\n",
       "<table border=\"1\" class=\"dataframe\">\n",
       "  <thead>\n",
       "    <tr style=\"text-align: right;\">\n",
       "      <th></th>\n",
       "      <th>event</th>\n",
       "      <th>users_g1</th>\n",
       "      <th>users_g2</th>\n",
       "      <th>mean_g1</th>\n",
       "      <th>mean_g2</th>\n",
       "      <th>p_value</th>\n",
       "      <th>significativo</th>\n",
       "    </tr>\n",
       "  </thead>\n",
       "  <tbody>\n",
       "    <tr>\n",
       "      <th>4</th>\n",
       "      <td>CartScreenAppear</td>\n",
       "      <td>2506</td>\n",
       "      <td>1236</td>\n",
       "      <td>10.903432</td>\n",
       "      <td>12.377832</td>\n",
       "      <td>0.0239</td>\n",
       "      <td>True</td>\n",
       "    </tr>\n",
       "    <tr>\n",
       "      <th>2</th>\n",
       "      <td>MainScreenAppear</td>\n",
       "      <td>4931</td>\n",
       "      <td>2498</td>\n",
       "      <td>15.745691</td>\n",
       "      <td>16.428743</td>\n",
       "      <td>0.1158</td>\n",
       "      <td>False</td>\n",
       "    </tr>\n",
       "    <tr>\n",
       "      <th>0</th>\n",
       "      <td>Tutorial</td>\n",
       "      <td>563</td>\n",
       "      <td>282</td>\n",
       "      <td>1.190053</td>\n",
       "      <td>1.340426</td>\n",
       "      <td>0.2404</td>\n",
       "      <td>False</td>\n",
       "    </tr>\n",
       "    <tr>\n",
       "      <th>1</th>\n",
       "      <td>PaymentScreenSuccessful</td>\n",
       "      <td>2359</td>\n",
       "      <td>1183</td>\n",
       "      <td>9.339975</td>\n",
       "      <td>10.329670</td>\n",
       "      <td>0.2846</td>\n",
       "      <td>False</td>\n",
       "    </tr>\n",
       "    <tr>\n",
       "      <th>3</th>\n",
       "      <td>OffersScreenAppear</td>\n",
       "      <td>3070</td>\n",
       "      <td>1536</td>\n",
       "      <td>9.832899</td>\n",
       "      <td>10.766276</td>\n",
       "      <td>0.7978</td>\n",
       "      <td>False</td>\n",
       "    </tr>\n",
       "  </tbody>\n",
       "</table>\n",
       "</div>"
      ],
      "text/plain": [
       "                     event  users_g1  users_g2    mean_g1    mean_g2  p_value  \\\n",
       "4         CartScreenAppear      2506      1236  10.903432  12.377832   0.0239   \n",
       "2         MainScreenAppear      4931      2498  15.745691  16.428743   0.1158   \n",
       "0                 Tutorial       563       282   1.190053   1.340426   0.2404   \n",
       "1  PaymentScreenSuccessful      2359      1183   9.339975  10.329670   0.2846   \n",
       "3       OffersScreenAppear      3070      1536   9.832899  10.766276   0.7978   \n",
       "\n",
       "   significativo  \n",
       "4           True  \n",
       "2          False  \n",
       "0          False  \n",
       "1          False  \n",
       "3          False  "
      ]
     },
     "execution_count": 37,
     "metadata": {},
     "output_type": "execute_result"
    }
   ],
   "source": [
    "comparar_eventos_mannwhitney(g246yg247, g248)"
   ]
  },
  {
   "cell_type": "markdown",
   "metadata": {},
   "source": [
    "#### Nivel de significancia "
   ]
  },
  {
   "cell_type": "markdown",
   "metadata": {},
   "source": [
    "El nivel de significancia (alpha) fue 0.05, que es el valor más comúnmente aceptado en estudios estadísticos. Esto significa que:\n",
    "\n",
    "- Aceptas un 5% de probabilidad de cometer un error tipo I (falso positivo), es decir, concluir que existe una diferencia cuando en realidad no la hay."
   ]
  },
  {
   "cell_type": "markdown",
   "metadata": {},
   "source": [
    "#### Cantidad de pruebas hipótesis\n",
    "\n",
    "Se realizaron 20 pruebas hipotesis, 5 por cada comparacion entre grupos \n",
    "- 246/247\n",
    "- 246/248\n",
    "- 247/248\n",
    "- g246 y g247 / g248"
   ]
  },
  {
   "cell_type": "markdown",
   "metadata": {},
   "source": [
    "#### ¿Qué nivel de significancia debería usar?\n",
    "\n"
   ]
  },
  {
   "cell_type": "code",
   "execution_count": 38,
   "metadata": {},
   "outputs": [
    {
     "data": {
      "text/plain": [
       "0.0025"
      ]
     },
     "execution_count": 38,
     "metadata": {},
     "output_type": "execute_result"
    }
   ],
   "source": [
    "alpha=0.05\n",
    "alpha_bonferroni= alpha /20\n",
    "alpha_bonferroni"
   ]
  },
  {
   "cell_type": "markdown",
   "metadata": {},
   "source": [
    "Esto significa que, para considerar un resultado como significativo, el p_value debería ser menor a 0.0025"
   ]
  },
  {
   "cell_type": "markdown",
   "metadata": {},
   "source": [
    "#### Cambio del alpha \n",
    "alpha=0.0025"
   ]
  },
  {
   "cell_type": "code",
   "execution_count": 39,
   "metadata": {},
   "outputs": [],
   "source": [
    "def comparar_eventos_mannwhitney(g1, g2, event_col='EventName', user_col='DeviceIDHash', alpha=0.0025):\n",
    "    resultados = []\n",
    "\n",
    "    eventos = set(g1[event_col].unique()).intersection(g2[event_col].unique())\n",
    "    \n",
    "    for evento in eventos:\n",
    "        \n",
    "        u1 = g1[g1[event_col] == evento].groupby(user_col).size()\n",
    "        u2 = g2[g2[event_col] == evento].groupby(user_col).size()\n",
    "        \n",
    "        if len(u1) > 0 and len(u2) > 0:\n",
    "            stat, p = mannwhitneyu(u1, u2, alternative='two-sided')\n",
    "            resultados.append({\n",
    "                'event': evento,\n",
    "                'users_g1': len(u1),\n",
    "                'users_g2': len(u2),\n",
    "                'mean_g1': u1.mean(),\n",
    "                'mean_g2': u2.mean(),\n",
    "                'p_value': round(p, 4),\n",
    "                'significativo': p < alpha\n",
    "            })\n",
    "    \n",
    "    return pd.DataFrame(resultados).sort_values('p_value')\n"
   ]
  },
  {
   "cell_type": "code",
   "execution_count": 40,
   "metadata": {},
   "outputs": [
    {
     "data": {
      "text/html": [
       "<div>\n",
       "<style scoped>\n",
       "    .dataframe tbody tr th:only-of-type {\n",
       "        vertical-align: middle;\n",
       "    }\n",
       "\n",
       "    .dataframe tbody tr th {\n",
       "        vertical-align: top;\n",
       "    }\n",
       "\n",
       "    .dataframe thead th {\n",
       "        text-align: right;\n",
       "    }\n",
       "</style>\n",
       "<table border=\"1\" class=\"dataframe\">\n",
       "  <thead>\n",
       "    <tr style=\"text-align: right;\">\n",
       "      <th></th>\n",
       "      <th>event</th>\n",
       "      <th>users_g1</th>\n",
       "      <th>users_g2</th>\n",
       "      <th>mean_g1</th>\n",
       "      <th>mean_g2</th>\n",
       "      <th>p_value</th>\n",
       "      <th>significativo</th>\n",
       "    </tr>\n",
       "  </thead>\n",
       "  <tbody>\n",
       "    <tr>\n",
       "      <th>0</th>\n",
       "      <td>Tutorial</td>\n",
       "      <td>278</td>\n",
       "      <td>285</td>\n",
       "      <td>1.161871</td>\n",
       "      <td>1.217544</td>\n",
       "      <td>0.3758</td>\n",
       "      <td>False</td>\n",
       "    </tr>\n",
       "    <tr>\n",
       "      <th>1</th>\n",
       "      <td>PaymentScreenSuccessful</td>\n",
       "      <td>1200</td>\n",
       "      <td>1159</td>\n",
       "      <td>9.960833</td>\n",
       "      <td>8.697153</td>\n",
       "      <td>0.3945</td>\n",
       "      <td>False</td>\n",
       "    </tr>\n",
       "    <tr>\n",
       "      <th>4</th>\n",
       "      <td>CartScreenAppear</td>\n",
       "      <td>1267</td>\n",
       "      <td>1239</td>\n",
       "      <td>11.672455</td>\n",
       "      <td>10.117030</td>\n",
       "      <td>0.4704</td>\n",
       "      <td>False</td>\n",
       "    </tr>\n",
       "    <tr>\n",
       "      <th>2</th>\n",
       "      <td>MainScreenAppear</td>\n",
       "      <td>2452</td>\n",
       "      <td>2479</td>\n",
       "      <td>15.535073</td>\n",
       "      <td>15.954014</td>\n",
       "      <td>0.6055</td>\n",
       "      <td>False</td>\n",
       "    </tr>\n",
       "    <tr>\n",
       "      <th>3</th>\n",
       "      <td>OffersScreenAppear</td>\n",
       "      <td>1544</td>\n",
       "      <td>1526</td>\n",
       "      <td>9.642487</td>\n",
       "      <td>10.025557</td>\n",
       "      <td>0.7563</td>\n",
       "      <td>False</td>\n",
       "    </tr>\n",
       "  </tbody>\n",
       "</table>\n",
       "</div>"
      ],
      "text/plain": [
       "                     event  users_g1  users_g2    mean_g1    mean_g2  p_value  \\\n",
       "0                 Tutorial       278       285   1.161871   1.217544   0.3758   \n",
       "1  PaymentScreenSuccessful      1200      1159   9.960833   8.697153   0.3945   \n",
       "4         CartScreenAppear      1267      1239  11.672455  10.117030   0.4704   \n",
       "2         MainScreenAppear      2452      2479  15.535073  15.954014   0.6055   \n",
       "3       OffersScreenAppear      1544      1526   9.642487  10.025557   0.7563   \n",
       "\n",
       "   significativo  \n",
       "0          False  \n",
       "1          False  \n",
       "4          False  \n",
       "2          False  \n",
       "3          False  "
      ]
     },
     "execution_count": 40,
     "metadata": {},
     "output_type": "execute_result"
    }
   ],
   "source": [
    "#(g246, g247)\n",
    "comparar_eventos_mannwhitney(g246, g247)"
   ]
  },
  {
   "cell_type": "code",
   "execution_count": 41,
   "metadata": {},
   "outputs": [
    {
     "data": {
      "text/html": [
       "<div>\n",
       "<style scoped>\n",
       "    .dataframe tbody tr th:only-of-type {\n",
       "        vertical-align: middle;\n",
       "    }\n",
       "\n",
       "    .dataframe tbody tr th {\n",
       "        vertical-align: top;\n",
       "    }\n",
       "\n",
       "    .dataframe thead th {\n",
       "        text-align: right;\n",
       "    }\n",
       "</style>\n",
       "<table border=\"1\" class=\"dataframe\">\n",
       "  <thead>\n",
       "    <tr style=\"text-align: right;\">\n",
       "      <th></th>\n",
       "      <th>event</th>\n",
       "      <th>users_g1</th>\n",
       "      <th>users_g2</th>\n",
       "      <th>mean_g1</th>\n",
       "      <th>mean_g2</th>\n",
       "      <th>p_value</th>\n",
       "      <th>significativo</th>\n",
       "    </tr>\n",
       "  </thead>\n",
       "  <tbody>\n",
       "    <tr>\n",
       "      <th>2</th>\n",
       "      <td>MainScreenAppear</td>\n",
       "      <td>2452</td>\n",
       "      <td>2498</td>\n",
       "      <td>15.535073</td>\n",
       "      <td>16.428743</td>\n",
       "      <td>0.1034</td>\n",
       "      <td>False</td>\n",
       "    </tr>\n",
       "    <tr>\n",
       "      <th>4</th>\n",
       "      <td>CartScreenAppear</td>\n",
       "      <td>1267</td>\n",
       "      <td>1236</td>\n",
       "      <td>11.672455</td>\n",
       "      <td>12.377832</td>\n",
       "      <td>0.1138</td>\n",
       "      <td>False</td>\n",
       "    </tr>\n",
       "    <tr>\n",
       "      <th>0</th>\n",
       "      <td>Tutorial</td>\n",
       "      <td>278</td>\n",
       "      <td>282</td>\n",
       "      <td>1.161871</td>\n",
       "      <td>1.340426</td>\n",
       "      <td>0.1474</td>\n",
       "      <td>False</td>\n",
       "    </tr>\n",
       "    <tr>\n",
       "      <th>1</th>\n",
       "      <td>PaymentScreenSuccessful</td>\n",
       "      <td>1200</td>\n",
       "      <td>1183</td>\n",
       "      <td>9.960833</td>\n",
       "      <td>10.329670</td>\n",
       "      <td>0.6234</td>\n",
       "      <td>False</td>\n",
       "    </tr>\n",
       "    <tr>\n",
       "      <th>3</th>\n",
       "      <td>OffersScreenAppear</td>\n",
       "      <td>1544</td>\n",
       "      <td>1536</td>\n",
       "      <td>9.642487</td>\n",
       "      <td>10.766276</td>\n",
       "      <td>0.7034</td>\n",
       "      <td>False</td>\n",
       "    </tr>\n",
       "  </tbody>\n",
       "</table>\n",
       "</div>"
      ],
      "text/plain": [
       "                     event  users_g1  users_g2    mean_g1    mean_g2  p_value  \\\n",
       "2         MainScreenAppear      2452      2498  15.535073  16.428743   0.1034   \n",
       "4         CartScreenAppear      1267      1236  11.672455  12.377832   0.1138   \n",
       "0                 Tutorial       278       282   1.161871   1.340426   0.1474   \n",
       "1  PaymentScreenSuccessful      1200      1183   9.960833  10.329670   0.6234   \n",
       "3       OffersScreenAppear      1544      1536   9.642487  10.766276   0.7034   \n",
       "\n",
       "   significativo  \n",
       "2          False  \n",
       "4          False  \n",
       "0          False  \n",
       "1          False  \n",
       "3          False  "
      ]
     },
     "execution_count": 41,
     "metadata": {},
     "output_type": "execute_result"
    }
   ],
   "source": [
    "#(g246, g248)\n",
    "comparar_eventos_mannwhitney(g246, g248)"
   ]
  },
  {
   "cell_type": "code",
   "execution_count": 42,
   "metadata": {},
   "outputs": [
    {
     "data": {
      "text/html": [
       "<div>\n",
       "<style scoped>\n",
       "    .dataframe tbody tr th:only-of-type {\n",
       "        vertical-align: middle;\n",
       "    }\n",
       "\n",
       "    .dataframe tbody tr th {\n",
       "        vertical-align: top;\n",
       "    }\n",
       "\n",
       "    .dataframe thead th {\n",
       "        text-align: right;\n",
       "    }\n",
       "</style>\n",
       "<table border=\"1\" class=\"dataframe\">\n",
       "  <thead>\n",
       "    <tr style=\"text-align: right;\">\n",
       "      <th></th>\n",
       "      <th>event</th>\n",
       "      <th>users_g1</th>\n",
       "      <th>users_g2</th>\n",
       "      <th>mean_g1</th>\n",
       "      <th>mean_g2</th>\n",
       "      <th>p_value</th>\n",
       "      <th>significativo</th>\n",
       "    </tr>\n",
       "  </thead>\n",
       "  <tbody>\n",
       "    <tr>\n",
       "      <th>4</th>\n",
       "      <td>CartScreenAppear</td>\n",
       "      <td>1239</td>\n",
       "      <td>1236</td>\n",
       "      <td>10.117030</td>\n",
       "      <td>12.377832</td>\n",
       "      <td>0.0193</td>\n",
       "      <td>False</td>\n",
       "    </tr>\n",
       "    <tr>\n",
       "      <th>1</th>\n",
       "      <td>PaymentScreenSuccessful</td>\n",
       "      <td>1159</td>\n",
       "      <td>1183</td>\n",
       "      <td>8.697153</td>\n",
       "      <td>10.329670</td>\n",
       "      <td>0.1697</td>\n",
       "      <td>False</td>\n",
       "    </tr>\n",
       "    <tr>\n",
       "      <th>2</th>\n",
       "      <td>MainScreenAppear</td>\n",
       "      <td>2479</td>\n",
       "      <td>2498</td>\n",
       "      <td>15.954014</td>\n",
       "      <td>16.428743</td>\n",
       "      <td>0.2739</td>\n",
       "      <td>False</td>\n",
       "    </tr>\n",
       "    <tr>\n",
       "      <th>0</th>\n",
       "      <td>Tutorial</td>\n",
       "      <td>285</td>\n",
       "      <td>282</td>\n",
       "      <td>1.217544</td>\n",
       "      <td>1.340426</td>\n",
       "      <td>0.5657</td>\n",
       "      <td>False</td>\n",
       "    </tr>\n",
       "    <tr>\n",
       "      <th>3</th>\n",
       "      <td>OffersScreenAppear</td>\n",
       "      <td>1526</td>\n",
       "      <td>1536</td>\n",
       "      <td>10.025557</td>\n",
       "      <td>10.766276</td>\n",
       "      <td>0.9510</td>\n",
       "      <td>False</td>\n",
       "    </tr>\n",
       "  </tbody>\n",
       "</table>\n",
       "</div>"
      ],
      "text/plain": [
       "                     event  users_g1  users_g2    mean_g1    mean_g2  p_value  \\\n",
       "4         CartScreenAppear      1239      1236  10.117030  12.377832   0.0193   \n",
       "1  PaymentScreenSuccessful      1159      1183   8.697153  10.329670   0.1697   \n",
       "2         MainScreenAppear      2479      2498  15.954014  16.428743   0.2739   \n",
       "0                 Tutorial       285       282   1.217544   1.340426   0.5657   \n",
       "3       OffersScreenAppear      1526      1536  10.025557  10.766276   0.9510   \n",
       "\n",
       "   significativo  \n",
       "4          False  \n",
       "1          False  \n",
       "2          False  \n",
       "0          False  \n",
       "3          False  "
      ]
     },
     "execution_count": 42,
     "metadata": {},
     "output_type": "execute_result"
    }
   ],
   "source": [
    "#(g247, g248)\n",
    "comparar_eventos_mannwhitney(g247, g248)"
   ]
  },
  {
   "cell_type": "code",
   "execution_count": 43,
   "metadata": {},
   "outputs": [
    {
     "data": {
      "text/html": [
       "<div>\n",
       "<style scoped>\n",
       "    .dataframe tbody tr th:only-of-type {\n",
       "        vertical-align: middle;\n",
       "    }\n",
       "\n",
       "    .dataframe tbody tr th {\n",
       "        vertical-align: top;\n",
       "    }\n",
       "\n",
       "    .dataframe thead th {\n",
       "        text-align: right;\n",
       "    }\n",
       "</style>\n",
       "<table border=\"1\" class=\"dataframe\">\n",
       "  <thead>\n",
       "    <tr style=\"text-align: right;\">\n",
       "      <th></th>\n",
       "      <th>event</th>\n",
       "      <th>users_g1</th>\n",
       "      <th>users_g2</th>\n",
       "      <th>mean_g1</th>\n",
       "      <th>mean_g2</th>\n",
       "      <th>p_value</th>\n",
       "      <th>significativo</th>\n",
       "    </tr>\n",
       "  </thead>\n",
       "  <tbody>\n",
       "    <tr>\n",
       "      <th>0</th>\n",
       "      <td>Tutorial</td>\n",
       "      <td>563</td>\n",
       "      <td>285</td>\n",
       "      <td>1.190053</td>\n",
       "      <td>1.217544</td>\n",
       "      <td>0.6181</td>\n",
       "      <td>False</td>\n",
       "    </tr>\n",
       "    <tr>\n",
       "      <th>1</th>\n",
       "      <td>PaymentScreenSuccessful</td>\n",
       "      <td>2359</td>\n",
       "      <td>1159</td>\n",
       "      <td>9.339975</td>\n",
       "      <td>8.697153</td>\n",
       "      <td>0.6189</td>\n",
       "      <td>False</td>\n",
       "    </tr>\n",
       "    <tr>\n",
       "      <th>4</th>\n",
       "      <td>CartScreenAppear</td>\n",
       "      <td>2506</td>\n",
       "      <td>1239</td>\n",
       "      <td>10.903432</td>\n",
       "      <td>10.117030</td>\n",
       "      <td>0.6746</td>\n",
       "      <td>False</td>\n",
       "    </tr>\n",
       "    <tr>\n",
       "      <th>2</th>\n",
       "      <td>MainScreenAppear</td>\n",
       "      <td>4931</td>\n",
       "      <td>2479</td>\n",
       "      <td>15.745691</td>\n",
       "      <td>15.954014</td>\n",
       "      <td>0.7664</td>\n",
       "      <td>False</td>\n",
       "    </tr>\n",
       "    <tr>\n",
       "      <th>3</th>\n",
       "      <td>OffersScreenAppear</td>\n",
       "      <td>3070</td>\n",
       "      <td>1526</td>\n",
       "      <td>9.832899</td>\n",
       "      <td>10.025557</td>\n",
       "      <td>0.8572</td>\n",
       "      <td>False</td>\n",
       "    </tr>\n",
       "  </tbody>\n",
       "</table>\n",
       "</div>"
      ],
      "text/plain": [
       "                     event  users_g1  users_g2    mean_g1    mean_g2  p_value  \\\n",
       "0                 Tutorial       563       285   1.190053   1.217544   0.6181   \n",
       "1  PaymentScreenSuccessful      2359      1159   9.339975   8.697153   0.6189   \n",
       "4         CartScreenAppear      2506      1239  10.903432  10.117030   0.6746   \n",
       "2         MainScreenAppear      4931      2479  15.745691  15.954014   0.7664   \n",
       "3       OffersScreenAppear      3070      1526   9.832899  10.025557   0.8572   \n",
       "\n",
       "   significativo  \n",
       "0          False  \n",
       "1          False  \n",
       "4          False  \n",
       "2          False  \n",
       "3          False  "
      ]
     },
     "execution_count": 43,
     "metadata": {},
     "output_type": "execute_result"
    }
   ],
   "source": [
    "#(g246 y g247 , g248)\n",
    "comparar_eventos_mannwhitney(g246yg247, g247)"
   ]
  },
  {
   "cell_type": "markdown",
   "metadata": {},
   "source": [
    "Esto refuerza la hipótesis nula: los grupos no muestran diferencias relevantes en el comportamiento de los usuarios debido al cambio de fuente.\n",
    "\n",
    "podemos afirmar que el cambio de fuente no impactó negativamente el comportamiento del usuario, y no hay evidencia estadística de que haya alterado significativamente las interacciones dentro de la app."
   ]
  },
  {
   "cell_type": "markdown",
   "metadata": {},
   "source": [
    "# Conclusiones"
   ]
  },
  {
   "cell_type": "markdown",
   "metadata": {},
   "source": [
    "Se analizó el comportamiento de los usuarios en la aplicación de la empresa emergente de productos alimenticios durante el período comprendido entre el 31 de julio y el 7 de agosto de 2019. A partir del estudio del embudo de ventas, se identificó que la mayor pérdida de usuarios ocurre entre la visualización de la pantalla principal y la sección de ofertas. Solo el 47,68% de los usuarios completan el proceso hasta la etapa de pago.\n",
    "\n",
    "En cuanto a la prueba A/A/B, se confirmó que los dos grupos de control (246 y 247) no presentan diferencias estadísticamente significativas entre sí, lo que valida la correcta aleatorización de los usuarios. Posteriormente, se comparó el grupo experimental (248), al cual se le asignó una nueva fuente tipográfica, con ambos grupos de control. Aunque en una de las comparaciones se detectó una diferencia puntual en el evento de carrito de compras, esta no se mantuvo significativa tras aplicar la corrección de Bonferroni para múltiples pruebas.\n",
    "\n",
    "En conclusión, no se encontraron diferencias significativas entre los grupos, lo que sugiere que el cambio de fuente no afecta negativamente el comportamiento del usuario. Por tanto, el rediseño puede implementarse con confianza, sin riesgo de impacto adverso en la experiencia de usuario ni en la conversión."
   ]
  },
  {
   "cell_type": "markdown",
   "metadata": {},
   "source": [
    "**Todo un Éxito**"
   ]
  }
 ],
 "metadata": {
  "kernelspec": {
   "display_name": "Python 3 (ipykernel)",
   "language": "python",
   "name": "python3"
  },
  "language_info": {
   "codemirror_mode": {
    "name": "ipython",
    "version": 3
   },
   "file_extension": ".py",
   "mimetype": "text/x-python",
   "name": "python",
   "nbconvert_exporter": "python",
   "pygments_lexer": "ipython3",
   "version": "3.9.23"
  }
 },
 "nbformat": 4,
 "nbformat_minor": 4
}
