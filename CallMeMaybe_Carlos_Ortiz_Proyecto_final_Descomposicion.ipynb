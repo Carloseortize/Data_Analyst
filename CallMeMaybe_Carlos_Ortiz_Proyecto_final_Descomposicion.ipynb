{
 "cells": [
  {
   "cell_type": "markdown",
   "metadata": {},
   "source": [
    "# CallMeMaybe"
   ]
  },
  {
   "cell_type": "markdown",
   "metadata": {},
   "source": [
    "**CARLOS ESTEBAN ORTIZ ESPITIA**\n",
    "\n",
    "Analista de datos "
   ]
  },
  {
   "cell_type": "markdown",
   "metadata": {},
   "source": [
    "## Análsis de operadores ineficaces"
   ]
  },
  {
   "cell_type": "markdown",
   "metadata": {},
   "source": [
    "## Introducción \n",
    "En el contexto del servicio de telefonía virtual, se elaborará un análisis para identificar operadores ineficaces, entendiendo por ineficacia una alta proporción de llamadas entrantes perdidas, tiempos de espera prolongados para atender llamadas, y, en los casos que aplique, un número reducido de llamadas salientes realizadas.\n",
    "\n",
    "Este proyecto tiene como propósito apoyar a los supervisores del servicio en la toma de decisiones fundamentadas, permitiendo mejorar la calidad del servicio y optimizar el desempeño del equipo de operadores.\n",
    "\n",
    "Para alcanzar este objetivo, se llevarán a cabo las tareas fundamentales del análisis de datos, que incluyen el preprocesamiento de la información, el análisis exploratorio, la evaluación de relaciones entre variables, el cálculo de frecuencias y probabilidades, y el desarrollo de métricas clave. A partir de estos análisis se generarán conclusiones sólidas que permitirán identificar oportunidades de mejora en la operación del servicio."
   ]
  },
  {
   "cell_type": "markdown",
   "metadata": {},
   "source": [
    "## Objetivo general \n",
    "\n",
    "Identificar a los operadores ineficaces del servicio de telefonía virtual CallMeMaybe mediante el análisis de datos, con el fin de proporcionar información útil para la toma de decisiones por parte de los supervisores y mejorar la eficiencia del servicio.\n",
    "\n"
   ]
  },
  {
   "cell_type": "markdown",
   "metadata": {},
   "source": [
    "## Objetivos Específicos \n",
    "\n",
    "1. Realizar un preprocesamiento adecuado de los datos para garantizar su calidad y coherencia.\n",
    "\n",
    "2. Llevar a cabo un análisis exploratorio de los datos para identificar patrones generales de comportamiento.\n",
    "\n",
    "3. Evaluar métricas clave como la cantidad de llamadas perdidas, el tiempo de espera y el número de llamadas realizadas por cada operador.\n",
    "\n",
    "4. Aplicar pruebas estadísticas para validar hipótesis sobre el desempeño de los operadores.\n",
    "\n",
    "5. Desarrollar visualizaciones y dashboards interactivos que faciliten la interpretación de los resultados.\n",
    "\n",
    "6. Proponer recomendaciones basadas en los hallazgos para optimizar la asignación de operadores y mejorar la calidad del servicio."
   ]
  },
  {
   "cell_type": "markdown",
   "metadata": {},
   "source": [
    "## Formulación\n",
    "\n",
    "### Datos \n",
    "Trabajamos con dos conjuntos de datos:\n",
    "\n",
    "- `telecom_dataset_us.csv`: contiene registros detallados de llamadas (entrantes, salientes e internas), incluyendo número de llamadas, duración total, tiempo de espera y si fueron perdidas.\n",
    "- `telecom_clients_us.csv`: contiene información sobre las cuentas de los clientes y su plan tarifario.\n",
    "\n",
    "Estas bases de datos cubren un amplio rango temporal y permiten vincular operadores, clientes, tipos de llamadas y comportamiento en el servicio.\n",
    "\n",
    "### Cliente\n",
    "\n",
    "El resultado del análisis será utilizado por los supervisores del servicio de atención y el área de operaciones de CallMeMaybe. Las conclusiones se integrarán en los procesos de negocio a través de dashboards interactivos y reportes automatizados que les permitirán:\n",
    "\n",
    "- Monitorear el rendimiento por operador\n",
    "- Detectar puntos críticos del servicio\n",
    "- Implementar acciones correctivas de forma oportuna"
   ]
  },
  {
   "cell_type": "markdown",
   "metadata": {},
   "source": [
    "### Antecendentes\n",
    "\n",
    "Hasta ahora, este tipo de evaluaciones suele hacerse manualmente, revisando reportes agregados sin una metodología definida. Esto conlleva sesgos, lentitud en la toma de decisiones y posibles omisiones. Aplicar un enfoque basado en datos permitirá mayor objetividad, eficiencia y escalabilidad.\n",
    "\n",
    "### Efectos \n",
    "\n",
    "- Mejora de la calidad del servicio y satisfacción del cliente\n",
    "- Reducción del volumen de llamadas perdidas\n",
    "- Identificación temprana de problemas operativos\n",
    "- Optimización del rendimiento del equipo humano\n",
    "- Posible reducción de costos al asignar recursos de manera más eficiente\n",
    "\n",
    "### Recursos \n",
    "\n",
    "Los recursos son sificientes. El proyecto se desarrollará con recursos disponibles.\n",
    "\n",
    "### Métricas \n",
    "\n",
    "- Proporción de llamadas perdidas por operador\n",
    "- Promedio de tiempo de espera\n",
    "- Volumen de llamadas gestionadas (entrantes y salientes)\n",
    "- Relaciones estadísticas significativas (hipótesis)\n",
    "- Interactividad y claridad de dashboards"
   ]
  },
  {
   "cell_type": "markdown",
   "metadata": {},
   "source": [
    "## Metodología \n",
    "\n",
    "1. Importación y revisión de datos\n",
    "- Carga de Dataset `telecom_dataset_us.csv` y `telecom_clients_us.csv`\n",
    "- Revisión, verificación de tipos de datos, busqueda de datos nulos o inconsistentes.\n",
    "\n",
    "2. Procesamiento de datos\n",
    "- Conversión de formatos (fechas, valores)\n",
    "- Eliminación de valores nulos\n",
    "- Eliminación de duplicados\n",
    "- verificacion de nombres de columnas\n",
    "- Reemplazar valores ausentes \n",
    "- Calculo de nueva variables\n",
    "- Agrupación de llamadas\n",
    "\n",
    "3. Análisis exploratorio de datos (EDA)\n",
    "- Estadísticas descriptivas generales\n",
    "- Visualización de distribuciones (duración, tipos de llamadas, llamadas perdidas)\n",
    "- Identificación de operadores con métricas extremas (percentiles)\n",
    "\n",
    "4. Identificación de operadores ineficaces\n",
    "- Establecimiento de umbrales para las métricas de desempeño\n",
    "- Clasificación de operadores según su rendimiento\n",
    "\n",
    "5. Pruebas de hipótesis\n",
    "- Evaluación estadística de relaciones entre variables (tiempo de espera y llamadas perdidas)\n",
    "- Comparaciones entre operadores o tipos de llamadas mediante pruebas (t-test) \n",
    "\n",
    "6. Visualización y dashboards\n",
    "- Creación de gráficos informativos (histogramas, gráficos circulares, líneas de tiempo)\n",
    "- Implementación de filtros por tipo de llamada o dirección\n",
    "- Construcción de dashboards interactivos usando Tableau\n",
    "\n",
    "7. Conclusiones y recomendaciones\n",
    "- Síntesis de hallazgos clave\n",
    "- Identificación de áreas de mejora\n",
    "- Propuestas de acciones para optimizar el uso del recurso humano"
   ]
  },
  {
   "cell_type": "markdown",
   "metadata": {},
   "source": [
    "## Hipótesis \n",
    "\n",
    "Hipótesis 1:\n",
    "Los operadores con más llamadas perdidas también tienen menor duración promedio en llamadas atendidas.\n",
    "\n",
    "Hipótesis 2:\n",
    "Existe una diferencia significativa en la duración promedio de las llamadas entre operadores que manejan llamadas internas y los que manejan llamadas externas.\n",
    "\n",
    "Hipótesis 3:\n",
    "Un tiempo de espera prolongado en las llamadas entrantes está asociado a una mayor tasa de llamadas perdidas.\n",
    "\n",
    "Hipótesis 4:\n",
    "El tiempo de espera promedio varía significativamente entre operadores.\n",
    "\n",
    "Hipótesis 5:\n",
    "Los operadores con más llamadas al día tienen menores tasas de llamadas perdidas.\n",
    "\n"
   ]
  },
  {
   "cell_type": "markdown",
   "metadata": {},
   "source": [
    "## Dashboards\n",
    "\n",
    "1. Dashboards 1\n",
    "    1. Histograma para la duración de la llamada\n",
    "    2. Gráfico circular que muestre la participación de las llamadas internas y externas\n",
    "    3. Filtro para la \"dirección\" de llamadas\n",
    "2. Dashboards 2\n",
    "    1. Histograma que muestre el número de llamadas por día\n",
    "    2. Gráfico circular que muestre la participación de las llamadas internas y externas\n",
    "    3. Filtro por tipo de llamada (interna o externa)"
   ]
  },
  {
   "cell_type": "markdown",
   "metadata": {},
   "source": []
  }
 ],
 "metadata": {
  "kernelspec": {
   "display_name": "Python 3 (ipykernel)",
   "language": "python",
   "name": "python3"
  },
  "language_info": {
   "codemirror_mode": {
    "name": "ipython",
    "version": 3
   },
   "file_extension": ".py",
   "mimetype": "text/x-python",
   "name": "python",
   "nbconvert_exporter": "python",
   "pygments_lexer": "ipython3",
   "version": "3.9.23"
  }
 },
 "nbformat": 4,
 "nbformat_minor": 4
}
